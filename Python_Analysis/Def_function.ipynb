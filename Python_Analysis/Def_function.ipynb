{
 "cells": [
  {
   "cell_type": "code",
   "execution_count": 21,
   "id": "20fcfe7c",
   "metadata": {},
   "outputs": [
    {
     "name": "stdout",
     "output_type": "stream",
     "text": [
      "[1, 5, 0.5, 0.05, 10, 25, 1, 2, 0.1, 5, 0.01]\n"
     ]
    }
   ],
   "source": [
    "def take_small(money):\n",
    "    \n",
    "    return [i for i in money if i < 100]\n",
    "\n",
    "money = [1, 5, 200, 0.5, 0.05, 10, 25, 1000, 5000, 1, 2, 100, 0.1, 5, 2000, 0.01]\n",
    "result = take_small(money)\n",
    "print(result)"
   ]
  },
  {
   "cell_type": "code",
   "execution_count": 22,
   "id": "0616cbd3",
   "metadata": {},
   "outputs": [
    {
     "name": "stdout",
     "output_type": "stream",
     "text": [
      "0\n",
      "1\n"
     ]
    }
   ],
   "source": [
    "x = 0\n",
    "\n",
    "def click():\n",
    "    global x\n",
    "    x += 1\n",
    "    return x\n",
    "\n",
    "def get_count():\n",
    "    return x\n",
    "\n",
    "print(get_count())\n",
    "click()\n",
    "print(get_count())\n"
   ]
  },
  {
   "cell_type": "code",
   "execution_count": 23,
   "id": "9c974d9e",
   "metadata": {},
   "outputs": [
    {
     "name": "stdout",
     "output_type": "stream",
     "text": [
      "Ваня\n"
     ]
    }
   ],
   "source": [
    "def move(player, number):\n",
    "    global x\n",
    "    if player == \"Петя\":\n",
    "        x += number\n",
    "    else:\n",
    "        x -= number\n",
    "\n",
    "    return x\n",
    "\n",
    "\n",
    "def game_over():\n",
    "    if x > 0:\n",
    "        return \"Петя\"\n",
    "    elif x < 0:\n",
    "        return \"Ваня\"\n",
    "    else:\n",
    "        return \"Ничья\"\n",
    "\n",
    "\n",
    "x = 0\n",
    "        \n",
    "move('Петя', 3)\n",
    "move('Ваня', 4)\n",
    "print(game_over())"
   ]
  },
  {
   "cell_type": "code",
   "execution_count": 24,
   "id": "67a0da1e",
   "metadata": {},
   "outputs": [],
   "source": [
    "def max2D(matrix):\n",
    "    merged = [element for each_list in matrix for element in each_list]\n",
    "\n",
    "    return max(merged)\n",
    "\n",
    "result = max2D([[1, 1, 1], [1, 2, 1], [1, 1, 1]])"
   ]
  },
  {
   "cell_type": "code",
   "execution_count": 25,
   "id": "6c637bb6",
   "metadata": {},
   "outputs": [
    {
     "name": "stdout",
     "output_type": "stream",
     "text": [
      "[[0, 4, 5], [-9, -6, 3], [2, 3, 4, 9]]\n"
     ]
    }
   ],
   "source": [
    "def fragments(numbers):\n",
    "    res = []\n",
    "    curr = [numbers[0]]\n",
    "    \n",
    "    for x in numbers[1:]:\n",
    "        if x > curr[-1]:\n",
    "            curr.append(x)\n",
    "        else:\n",
    "            res.append(curr)\n",
    "            curr = [x]\n",
    "    res.append(curr)\n",
    "\n",
    "    return res\n",
    "\n",
    "\n",
    "result = fragments([0, 4, 5, -9, -6, 3, 2, 3, 4, 9])\n",
    "print(result)"
   ]
  },
  {
   "cell_type": "code",
   "execution_count": 26,
   "id": "723da7a2",
   "metadata": {},
   "outputs": [
    {
     "name": "stdout",
     "output_type": "stream",
     "text": [
      "200\n",
      "None\n"
     ]
    }
   ],
   "source": [
    "def final_price(*prices, discount=1, **kwargs):\n",
    "    low = kwargs.get(\"price_low\", min(prices))\n",
    "    \n",
    "    print(low)\n",
    "    \n",
    "print(final_price(100, 200, 300, 400, 500, discount=5, price_low=200))"
   ]
  },
  {
   "cell_type": "code",
   "execution_count": 27,
   "id": "5e86f8af",
   "metadata": {},
   "outputs": [
    {
     "name": "stdout",
     "output_type": "stream",
     "text": [
      "5, 6\n"
     ]
    }
   ],
   "source": [
    "def only_pos(x):\n",
    "    return x > 0\n",
    "\n",
    "result = filter(only_pos, [-1, 5, 6, -10, 0])\n",
    "print(\", \".join(str(x) for x in result))"
   ]
  },
  {
   "cell_type": "code",
   "execution_count": 31,
   "id": "9375d2de",
   "metadata": {},
   "outputs": [
    {
     "name": "stdout",
     "output_type": "stream",
     "text": [
      "1, 25, 36, 100, 0\n"
     ]
    }
   ],
   "source": [
    "result = map(lambda x: x ** 2, [-1, 5, 6, -10, 0])\n",
    "\n",
    "print(', '.join(str(i) for i in result))"
   ]
  },
  {
   "cell_type": "code",
   "execution_count": 33,
   "id": "9d603ef5",
   "metadata": {},
   "outputs": [
    {
     "name": "stdout",
     "output_type": "stream",
     "text": [
      "['abcdef', 'abcd', 'ab', 'ba']\n"
     ]
    }
   ],
   "source": [
    "lines = [\"abcd\", \"ab\", \"ba\", \"abcdef\"]\n",
    "\n",
    "print(sorted(lines, key=lambda line: (-len(line), line)))"
   ]
  },
  {
   "cell_type": "code",
   "execution_count": 36,
   "id": "910e875b",
   "metadata": {},
   "outputs": [
    {
     "name": "stdout",
     "output_type": "stream",
     "text": [
      "January\n"
     ]
    }
   ],
   "source": [
    "months = {\n",
    "    1: [\"Январь\", \"January\"],\n",
    "    2: [\"Февраль\", \"February\"],\n",
    "    3: [\"Март\", \"March\"],\n",
    "    4: [\"Апрель\", \"April\"],\n",
    "    5: [\"Май\", \"May\"],\n",
    "    6: [\"Июнь\", \"June\"],\n",
    "    7: [\"Июль\", \"July\"],\n",
    "    8: [\"Август\", \"August\"],\n",
    "    9: [\"Сентябрь\", \"September\"],\n",
    "    10: [\"Октябрь\", \"October\"],\n",
    "    11: [\"Ноябрь\", \"November\"],\n",
    "    12: [\"Декабрь\", \"December\"]\n",
    "}\n",
    "\n",
    "\n",
    "def month(num, language='ru'):\n",
    "    \n",
    "    return months[num][1] if language == 'en' else months[num][0]\n",
    "\n",
    "result = month(1, \"en\")\n",
    "\n",
    "print(result)"
   ]
  },
  {
   "cell_type": "code",
   "execution_count": 69,
   "id": "ee4a2751",
   "metadata": {},
   "outputs": [
    {
     "name": "stdout",
     "output_type": "stream",
     "text": [
      "7, 3, 1, hello, (1, 2, 3)!\n"
     ]
    }
   ],
   "source": [
    "def to_string(*data, sep=' ', end=\"\\n\"):\n",
    "    \n",
    "    return sep.join(str(new) for new in data) + end \n",
    "    \n",
    "print(to_string(*[7, 3, 1, \"hello\", (1, 2, 3)], sep=\", \", end=\"!\"))"
   ]
  },
  {
   "cell_type": "code",
   "execution_count": 74,
   "id": "09a45fd0",
   "metadata": {},
   "outputs": [],
   "source": [
    "def get_operator(oper):\n",
    "\n",
    "    if oper == \"+\":\n",
    "        return lambda x, y: x + y\n",
    "    if oper == \"-\":\n",
    "        return lambda x, y: x - y\n",
    "    if oper == \"//\":\n",
    "        return lambda x, y: x // y\n",
    "    if oper == \"**\":\n",
    "        return lambda x, y: x ** y\n",
    "    if oper == \"*\":\n",
    "        return lambda x, y: x * y"
   ]
  },
  {
   "cell_type": "code",
   "execution_count": 83,
   "id": "b652f5d8",
   "metadata": {},
   "outputs": [
    {
     "name": "stdout",
     "output_type": "stream",
     "text": [
      "Hello, world!\n"
     ]
    }
   ],
   "source": [
    "def to_string(*data, sep, end):\n",
    "    \n",
    "    return sep.join(str(new) for new in data) + end \n",
    "\n",
    "\n",
    "def get_formatter(sep=\" \", end=\"\"):\n",
    "\n",
    "    return lambda *x: to_string(*x, sep=sep, end=end)\n",
    "\n",
    "\n",
    "formatter = get_formatter(end=\"!\", sep=\", \")\n",
    "print(formatter(\"Hello\", \"world\"))"
   ]
  },
  {
   "cell_type": "code",
   "execution_count": 111,
   "id": "aa5fc33d",
   "metadata": {},
   "outputs": [
    {
     "name": "stdout",
     "output_type": "stream",
     "text": [
      "(1, 9, 13, 11, 5)\n"
     ]
    }
   ],
   "source": [
    "def grow(*args, **kwargs):\n",
    "\n",
    "    new = []\n",
    "    for digit in args:\n",
    "        digit += sum(val for key, val in kwargs.items() if digit % len(key) == 0)\n",
    "    \n",
    "        new.append(digit)\n",
    "            \n",
    "    return tuple(new)\n",
    "\n",
    "result = grow(1, 2, 3, 4, 5, ab=7, dad=10)\n",
    "print(result)"
   ]
  },
  {
   "cell_type": "code",
   "execution_count": 136,
   "id": "b0c94da1",
   "metadata": {},
   "outputs": [
    {
     "name": "stdout",
     "output_type": "stream",
     "text": [
      "(25, 6)\n"
     ]
    }
   ],
   "source": [
    "def product(*args, **kwargs):\n",
    "\n",
    "    new = []\n",
    "\n",
    "    for word in args:\n",
    "        word = set(word)\n",
    "        final = 1\n",
    "        for i in word:\n",
    "            if i in kwargs:\n",
    "                final *= kwargs[i]\n",
    "\n",
    "        if final != 1:\n",
    "            new.append(final)\n",
    "\n",
    "    return tuple(new)  \n",
    "\n",
    "result = product(\"Ann\", \"Bob\", \"Chuck\", a=9, n=5, u=3, c=2, A=5)\n",
    "print(result)"
   ]
  },
  {
   "cell_type": "code",
   "execution_count": 177,
   "id": "73cb34f2",
   "metadata": {},
   "outputs": [
    {
     "name": "stdout",
     "output_type": "stream",
     "text": [
      "2\n"
     ]
    }
   ],
   "source": [
    "def choice(*args, **kwargs):\n",
    "    \n",
    "    if \"max\" in kwargs:\n",
    "        return max([kwargs[\"max\"](i) for i in args])\n",
    "    else:\n",
    "        return min([kwargs[\"min\"](i) for i in args])\n",
    "    \n",
    "result = choice(321, 87, 1000, -23, min=lambda x: len(str(x)))\n",
    "print(result)"
   ]
  }
 ],
 "metadata": {
  "kernelspec": {
   "display_name": "Python (base)",
   "language": "python",
   "name": "base"
  },
  "language_info": {
   "codemirror_mode": {
    "name": "ipython",
    "version": 3
   },
   "file_extension": ".py",
   "mimetype": "text/x-python",
   "name": "python",
   "nbconvert_exporter": "python",
   "pygments_lexer": "ipython3",
   "version": "3.12.7"
  }
 },
 "nbformat": 4,
 "nbformat_minor": 5
}
