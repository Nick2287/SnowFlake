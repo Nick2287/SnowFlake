{
 "cells": [
  {
   "cell_type": "markdown",
   "id": "6d3051b2",
   "metadata": {},
   "source": [
    "*Series* — одномерный массив, способный хранить значения любого типа. По своей структуре напоминает словарь: каждому значению присваивается метка (индекс), которая может быть как числом, так и строкой.\n",
    "*DataFrame* — двумерная таблица, в которой строки и столбцы имеют имена. Каждый столбец — это объект класса Series, а сами данные удобно организованы для анализа и преобразований."
   ]
  },
  {
   "cell_type": "code",
   "execution_count": 102,
   "id": "92984e11",
   "metadata": {},
   "outputs": [],
   "source": [
    "import numpy as np\n",
    "import pandas as pd\n",
    "import matplotlib.pyplot as plt"
   ]
  },
  {
   "cell_type": "code",
   "execution_count": 103,
   "id": "2185f63a",
   "metadata": {},
   "outputs": [
    {
     "name": "stdout",
     "output_type": "stream",
     "text": [
      "1    1.0\n",
      "2    2.0\n",
      "3    3.0\n",
      "4    4.0\n",
      "5    5.0\n",
      "dtype: float64\n"
     ]
    }
   ],
   "source": [
    "s = pd.Series(np.linspace(1, 5, 5), index=range(1, 6))\n",
    "\n",
    "print(s)"
   ]
  },
  {
   "cell_type": "code",
   "execution_count": 104,
   "id": "75dce59e",
   "metadata": {},
   "outputs": [
    {
     "name": "stdout",
     "output_type": "stream",
     "text": [
      "a    10\n",
      "b    20\n",
      "c    30\n",
      "g    40\n",
      "dtype: int64\n",
      "\n",
      "a    10.0\n",
      "b    20.0\n",
      "c    30.0\n",
      "d     NaN\n",
      "dtype: float64\n"
     ]
    }
   ],
   "source": [
    "d = {\"a\": 10, \"b\": 20, \"c\": 30, \"g\": 40}\n",
    "print(pd.Series(d))\n",
    "print()\n",
    "print(pd.Series(d, index=[\"a\", \"b\", \"c\", \"d\"]))\n"
   ]
  },
  {
   "cell_type": "code",
   "execution_count": 105,
   "id": "830c9b9a",
   "metadata": {},
   "outputs": [
    {
     "name": "stdout",
     "output_type": "stream",
     "text": [
      "a    5\n",
      "b    5\n",
      "c    5\n",
      "dtype: int64\n"
     ]
    }
   ],
   "source": [
    "index = [\"a\", \"b\", \"c\"]\n",
    "\n",
    "print(pd.Series(5, index=index))\n",
    "\n",
    "# Если data — число, обязательно передаётся index, определяющий количество элементов:"
   ]
  },
  {
   "cell_type": "code",
   "execution_count": 106,
   "id": "cb878843",
   "metadata": {},
   "outputs": [
    {
     "name": "stdout",
     "output_type": "stream",
     "text": [
      "3\n",
      "c    3\n",
      "d    4\n",
      "dtype: int64\n",
      "6\n",
      "c    3\n",
      "d    4\n",
      "dtype: int64\n"
     ]
    }
   ],
   "source": [
    "s = pd.Series(np.arange(1, 6), index=[\"a\", \"b\", \"c\", \"d\", \"e\"])\n",
    "\n",
    "print(s[\"c\"])\n",
    "print(s[2:4])\n",
    "print(s[\"c\"] + s[\"c\"])\n",
    "print(s[[\"c\", \"d\"]])"
   ]
  },
  {
   "cell_type": "code",
   "execution_count": 107,
   "id": "e9b1e4d0",
   "metadata": {},
   "outputs": [
    {
     "name": "stdout",
     "output_type": "stream",
     "text": [
      "c    3\n",
      "d    4\n",
      "e    5\n",
      "dtype: int64\n"
     ]
    }
   ],
   "source": [
    "s = pd.Series(np.arange(1, 6), index=[\"a\", \"b\", \"c\", \"d\", \"e\"])\n",
    "\n",
    "print(s[s > 2])"
   ]
  },
  {
   "cell_type": "code",
   "execution_count": 108,
   "id": "73f37dc6",
   "metadata": {},
   "outputs": [
    {
     "name": "stdout",
     "output_type": "stream",
     "text": [
      "Индекс\n",
      "a    1\n",
      "b    2\n",
      "c    3\n",
      "d    4\n",
      "e    5\n",
      "Name: Данные, dtype: int64\n"
     ]
    }
   ],
   "source": [
    "s.name = \"Данные\"\n",
    "s.index.name = \"Индекс\"\n",
    "print(s)"
   ]
  },
  {
   "cell_type": "code",
   "execution_count": 109,
   "id": "f5eaa1a6",
   "metadata": {},
   "outputs": [
    {
     "name": "stdout",
     "output_type": "stream",
     "text": [
      "Индекс\n",
      "a    1\n",
      "b    2\n",
      "c    3\n",
      "d    4\n",
      "e    5\n",
      "Name: Данные, dtype: int64\n"
     ]
    }
   ],
   "source": [
    "students_marks_dict = {\n",
    "    \"student\": [\"Студент_1\", \"Студент_2\", \"Студент_3\"],\n",
    "    \"math\": [5, 3, 4],\n",
    "    \"physics\": [4, 5, 5]\n",
    "}\n",
    "\n",
    "students = pd.DataFrame(students_marks_dict)\n",
    "print(s)"
   ]
  },
  {
   "cell_type": "code",
   "execution_count": 110,
   "id": "4a80d61d",
   "metadata": {},
   "outputs": [
    {
     "name": "stdout",
     "output_type": "stream",
     "text": [
      "RangeIndex(start=0, stop=3, step=1)\n",
      "Index(['student', 'math', 'physics'], dtype='object')\n",
      "     student  math  physics\n",
      "1  Студент_1     5        4\n",
      "2  Студент_2     3        5\n",
      "3  Студент_3     4        5\n"
     ]
    }
   ],
   "source": [
    "print(students.index)\n",
    "print(students.columns)\n",
    "\n",
    "students.index = range(1, 4)\n",
    "print(students)"
   ]
  },
  {
   "cell_type": "code",
   "execution_count": 111,
   "id": "11ddd246",
   "metadata": {},
   "outputs": [
    {
     "name": "stdout",
     "output_type": "stream",
     "text": [
      "Студент_1\n",
      "\n",
      "student    Студент_1\n",
      "math               5\n",
      "physics            4\n",
      "Name: 1, dtype: object\n"
     ]
    }
   ],
   "source": [
    "print(students[\"student\"][1])\n",
    "print()\n",
    "print(students.loc[1])"
   ]
  },
  {
   "cell_type": "code",
   "execution_count": 112,
   "id": "a67c1db7",
   "metadata": {},
   "outputs": [],
   "source": [
    "students = pd.read_csv(\"/Users/nickolaykrasnenko/Documents/GitHub/SnowFlake/Python_Analysis/Data.csv\")"
   ]
  },
  {
   "cell_type": "code",
   "execution_count": 113,
   "id": "426e8a52",
   "metadata": {},
   "outputs": [
    {
     "name": "stdout",
     "output_type": "stream",
     "text": [
      "   gender race/ethnicity parental level of education         lunch  \\\n",
      "0  female        group B           bachelor's degree      standard   \n",
      "1  female        group C                some college      standard   \n",
      "2  female        group B             master's degree      standard   \n",
      "3    male        group A          associate's degree  free/reduced   \n",
      "4    male        group C                some college      standard   \n",
      "\n",
      "  test preparation course  math score  reading score  writing score  \n",
      "0                    none          72             72             74  \n",
      "1               completed          69             90             88  \n",
      "2                    none          90             95             93  \n",
      "3                    none          47             57             44  \n",
      "4                    none          76             78             75  \n"
     ]
    }
   ],
   "source": [
    "print(students.head())"
   ]
  },
  {
   "cell_type": "code",
   "execution_count": 114,
   "id": "8e23276a",
   "metadata": {},
   "outputs": [
    {
     "name": "stdout",
     "output_type": "stream",
     "text": [
      "     gender race/ethnicity parental level of education         lunch  \\\n",
      "995  female        group E             master's degree      standard   \n",
      "996    male        group C                 high school  free/reduced   \n",
      "997  female        group C                 high school  free/reduced   \n",
      "998  female        group D                some college      standard   \n",
      "999  female        group D                some college  free/reduced   \n",
      "\n",
      "    test preparation course  math score  reading score  writing score  \n",
      "995               completed          88             99             95  \n",
      "996                    none          62             55             55  \n",
      "997               completed          59             71             65  \n",
      "998               completed          68             78             77  \n",
      "999                    none          77             86             86  \n"
     ]
    }
   ],
   "source": [
    "print(students.tail())"
   ]
  },
  {
   "cell_type": "code",
   "execution_count": 115,
   "id": "a876017a",
   "metadata": {},
   "outputs": [
    {
     "name": "stdout",
     "output_type": "stream",
     "text": [
      "    gender race/ethnicity parental level of education     lunch  \\\n",
      "10    male        group C          associate's degree  standard   \n",
      "11    male        group D          associate's degree  standard   \n",
      "12  female        group B                 high school  standard   \n",
      "\n",
      "   test preparation course  math score  reading score  writing score  \n",
      "10                    none          58             54             52  \n",
      "11                    none          40             52             43  \n",
      "12                    none          65             81             73  \n"
     ]
    }
   ],
   "source": [
    "print(students[10:13])"
   ]
  },
  {
   "cell_type": "code",
   "execution_count": 116,
   "id": "86a19103",
   "metadata": {},
   "outputs": [
    {
     "name": "stdout",
     "output_type": "stream",
     "text": [
      "1     69\n",
      "6     88\n",
      "8     64\n",
      "13    78\n",
      "18    46\n",
      "Name: math score, dtype: int64\n"
     ]
    }
   ],
   "source": [
    "print(students[students[\"test preparation course\"] == \"completed\"][\"math score\"].head())"
   ]
  },
  {
   "cell_type": "code",
   "execution_count": 117,
   "id": "fd5ef7be",
   "metadata": {},
   "outputs": [
    {
     "name": "stdout",
     "output_type": "stream",
     "text": [
      "     math score  reading score  writing score\n",
      "916         100            100            100\n",
      "149         100            100             93\n",
      "625         100             97             99\n",
      "623         100             96             86\n",
      "114          99            100            100\n"
     ]
    }
   ],
   "source": [
    "with_course = students[students[\"test preparation course\"] == \"completed\"]\n",
    "\n",
    "print(with_course[[\"math score\", \"reading score\", \"writing score\"]]\n",
    "      .sort_values([\"math score\", \"reading score\", \"writing score\"], ascending=False)\n",
    "      .head(),)"
   ]
  },
  {
   "cell_type": "code",
   "execution_count": 118,
   "id": "f02d37a6",
   "metadata": {},
   "outputs": [
    {
     "name": "stdout",
     "output_type": "stream",
     "text": [
      "     gender race/ethnicity parental level of education     lunch  \\\n",
      "916    male        group E           bachelor's degree  standard   \n",
      "458  female        group E           bachelor's degree  standard   \n",
      "962  female        group E          associate's degree  standard   \n",
      "114  female        group E           bachelor's degree  standard   \n",
      "179  female        group D            some high school  standard   \n",
      "\n",
      "    test preparation course  math score  reading score  writing score  \\\n",
      "916               completed         100            100            100   \n",
      "458                    none         100            100            100   \n",
      "962                    none         100            100            100   \n",
      "114               completed          99            100            100   \n",
      "179               completed          97            100            100   \n",
      "\n",
      "     total_score  \n",
      "916          300  \n",
      "458          300  \n",
      "962          300  \n",
      "114          299  \n",
      "179          297  \n"
     ]
    }
   ],
   "source": [
    "students[\"total_score\"] = (students[\"math score\"]\n",
    "                           + students[\"reading score\"]\n",
    "                           + students[\"writing score\"])\n",
    "\n",
    "print(students.sort_values(\"total_score\", ascending=False).head())"
   ]
  },
  {
   "cell_type": "code",
   "execution_count": 119,
   "id": "0bb71990",
   "metadata": {},
   "outputs": [
    {
     "name": "stdout",
     "output_type": "stream",
     "text": [
      "     gender race/ethnicity parental level of education     lunch  \\\n",
      "916    male        group E           bachelor's degree  standard   \n",
      "458  female        group E           bachelor's degree  standard   \n",
      "962  female        group E          associate's degree  standard   \n",
      "114  female        group E           bachelor's degree  standard   \n",
      "179  female        group D            some high school  standard   \n",
      "\n",
      "    test preparation course  math score  reading score  writing score  \\\n",
      "916               completed         100            100            100   \n",
      "458                    none         100            100            100   \n",
      "962                    none         100            100            100   \n",
      "114               completed          99            100            100   \n",
      "179               completed          97            100            100   \n",
      "\n",
      "     total_score  \n",
      "916          300  \n",
      "458          300  \n",
      "962          300  \n",
      "114          299  \n",
      "179          297  \n"
     ]
    }
   ],
   "source": [
    "scores = students.assign(total_score=lambda x: x[\"math score\"]\n",
    "                                          + x[\"reading score\"]\n",
    "                                          + x[\"writing score\"])\n",
    "\n",
    "print(scores.sort_values(\"total_score\", ascending=False).head())"
   ]
  },
  {
   "cell_type": "code",
   "execution_count": 120,
   "id": "3d9a388c",
   "metadata": {},
   "outputs": [
    {
     "name": "stdout",
     "output_type": "stream",
     "text": [
      "gender  test preparation course\n",
      "female  completed                  184\n",
      "        none                       334\n",
      "male    completed                  174\n",
      "        none                       308\n",
      "Name: writing score, dtype: int64\n"
     ]
    }
   ],
   "source": [
    "print(\n",
    "    students\n",
    "      .groupby([\"gender\", \"test preparation course\"])[\"writing score\"]\n",
    "      .count()\n",
    ")"
   ]
  },
  {
   "cell_type": "code",
   "execution_count": 123,
   "id": "2f53f261",
   "metadata": {},
   "outputs": [
    {
     "name": "stdout",
     "output_type": "stream",
     "text": [
      "                               math score            \n",
      "                                     mean median  max\n",
      "gender test preparation course                       \n",
      "female completed                67.195652   67.0   99\n",
      "       none                     61.670659   62.0  100\n",
      "male   completed                72.339080   73.0  100\n",
      "       none                     66.688312   67.0   97\n"
     ]
    }
   ],
   "source": [
    "agg_functions = {\"math score\": [\"mean\", \"median\", \"max\"]}\n",
    "\n",
    "print(students.groupby([\"gender\", \"test preparation course\"]).agg(agg_functions))"
   ]
  },
  {
   "cell_type": "code",
   "execution_count": 136,
   "id": "796c2fbd",
   "metadata": {},
   "outputs": [
    {
     "data": {
      "image/png": "[encoded data removed]",
      "text/plain": [
       "<Figure size 640x480 with 1 Axes>"
      ]
     },
     "metadata": {},
     "output_type": "display_data"
    }
   ],
   "source": [
    "plt.hist(students[\"math score\"], label=\"Тест по математике\")\n",
    "plt.xlabel(\"Баллы за тест\")\n",
    "plt.ylabel(\"Количество студентов\")\n",
    "plt.legend()\n",
    "plt.show()"
   ]
  },
  {
   "cell_type": "code",
   "execution_count": 182,
   "id": "4fd256e3",
   "metadata": {},
   "outputs": [
    {
     "name": "stdout",
     "output_type": "stream",
     "text": [
      "домик       5\n",
      "зверушка    8\n",
      "и           1\n",
      "лес         3\n",
      "опушка      6\n",
      "странный    8\n",
      "dtype: int64\n"
     ]
    }
   ],
   "source": [
    "list1 = [\n",
    "    '!', '\"', '#', '$', '%', '&', \"'\", '(', ')', '*', '+', ',', '-', '.', '/',\n",
    "    ':', ';', '<', '=', '>', '?', '@', '[', '\\\\', ']', '^', '_', '`', '{', '|',\n",
    "    '}', '~', \"1\", \"2\", \"3\", \"4\", \"5\", \"6\", \"7\", \"8\", \"9\", \"0\"\n",
    "]\n",
    "\n",
    "\n",
    "def length_stats(new):\n",
    "\n",
    "    index1 = \"\".join(i for i in new if i not in list1).split(\" \")\n",
    "    index1 = sorted(list(set(j.lower() for j in index1)))\n",
    "        \n",
    "    return pd.Series(map(len, index1), index=index1, dtype=\"int64\")\n",
    "\n",
    "print(length_stats('Лес, опушка, странный домик. Лес, опушка и зверушка.'))"
   ]
  },
  {
   "cell_type": "code",
   "execution_count": null,
   "id": "47f5b601",
   "metadata": {},
   "outputs": [],
   "source": []
  }
 ],
 "metadata": {
  "kernelspec": {
   "display_name": "Python (base)",
   "language": "python",
   "name": "base"
  },
  "language_info": {
   "codemirror_mode": {
    "name": "ipython",
    "version": 3
   },
   "file_extension": ".py",
   "mimetype": "text/x-python",
   "name": "python",
   "nbconvert_exporter": "python",
   "pygments_lexer": "ipython3",
   "version": "3.12.7"
  }
 },
 "nbformat": 4,
 "nbformat_minor": 5
}
