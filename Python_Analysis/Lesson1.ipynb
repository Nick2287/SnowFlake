{
 "cells": [
  {
   "cell_type": "markdown",
   "id": "c9e469c5",
   "metadata": {},
   "source": [
    "Series — одномерный массив, способный хранить значения любого типа. По своей структуре напоминает словарь: каждому значению присваивается метка (индекс), которая может быть как числом, так и строкой.\n",
    "\n",
    "DataFrame — двумерная таблица, в которой строки и столбцы имеют имена. Каждый столбец — это объект класса Series, а сами данные удобно организованы для анализа и преобразований."
   ]
  },
  {
   "cell_type": "code",
   "execution_count": 8,
   "id": "1ef53ceb",
   "metadata": {},
   "outputs": [],
   "source": [
    "import pandas as pd\n",
    "import numpy as np"
   ]
  },
  {
   "cell_type": "code",
   "execution_count": 31,
   "id": "375d270b",
   "metadata": {},
   "outputs": [
    {
     "name": "stdout",
     "output_type": "stream",
     "text": [
      "[0 2 3 4]\n"
     ]
    },
    {
     "name": "stderr",
     "output_type": "stream",
     "text": [
      "/var/folders/nx/gz3nx61j43sgg1vjqk1pfrtm0000gn/T/ipykernel_53731/1520808402.py:3: DeprecationWarning: NumPy will stop allowing conversion of out-of-bound Python integers to integer arrays.  The conversion of 256 to uint8 will fail in the future.\n",
      "For the old behavior, usually:\n",
      "    np.array(value).astype(dtype)\n",
      "will give the desired result (the cast overflows).\n",
      "  a[0] = 256\n"
     ]
    }
   ],
   "source": [
    "a = np.array([1, 2, 3, 4], dtype=\"uint8\")\n",
    "\n",
    "a[0] = 256\n",
    "\n",
    "print(a)"
   ]
  },
  {
   "cell_type": "code",
   "execution_count": 36,
   "id": "b5ffe6d8",
   "metadata": {},
   "outputs": [
    {
     "name": "stdout",
     "output_type": "stream",
     "text": [
      "[[0 0 0]\n",
      " [0 0 0]\n",
      " [0 0 0]\n",
      " [0 0 0]]\n"
     ]
    }
   ],
   "source": [
    "a = np.zeros((4, 3), dtype=\"int8\")\n",
    "print(a)"
   ]
  },
  {
   "cell_type": "code",
   "execution_count": null,
   "id": "f4c741d6",
   "metadata": {},
   "outputs": [
    {
     "name": "stdout",
     "output_type": "stream",
     "text": [
      "[ 1.00000000e+00  9.00000000e-01  8.00000000e-01  7.00000000e-01\n",
      "  6.00000000e-01  5.00000000e-01  4.00000000e-01  3.00000000e-01\n",
      "  2.00000000e-01  1.00000000e-01  2.22044605e-16 -1.00000000e-01\n",
      " -2.00000000e-01 -3.00000000e-01 -4.00000000e-01 -5.00000000e-01\n",
      " -6.00000000e-01 -7.00000000e-01 -8.00000000e-01 -9.00000000e-01]\n"
     ]
    }
   ],
   "source": [
    "a = np.arange(1, -1, -0.1)\n",
    "print(a)"
   ]
  },
  {
   "cell_type": "code",
   "execution_count": null,
   "id": "8594c59e",
   "metadata": {},
   "outputs": [
    {
     "name": "stdout",
     "output_type": "stream",
     "text": [
      "[1. 3. 5.]\n"
     ]
    }
   ],
   "source": [
    "a = np.linspace(1, 5, 3)\n",
    "print(a)"
   ]
  },
  {
   "cell_type": "code",
   "execution_count": 100,
   "id": "c11bdb7a",
   "metadata": {},
   "outputs": [
    {
     "name": "stdout",
     "output_type": "stream",
     "text": [
      "[[[0]\n",
      "  [0]\n",
      "  [0]\n",
      "  [0]]\n",
      "\n",
      " [[0]\n",
      "  [0]\n",
      "  [0]\n",
      "  [0]]\n",
      "\n",
      " [[0]\n",
      "  [0]\n",
      "  [0]\n",
      "  [0]]]\n"
     ]
    }
   ],
   "source": [
    "a = np.zeros((4, 3), dtype=\"uint8\")\n",
    "\n",
    "a = a.reshape(3, 4, -1)\n",
    "print(a)"
   ]
  },
  {
   "cell_type": "code",
   "execution_count": 105,
   "id": "138558cf",
   "metadata": {},
   "outputs": [
    {
     "name": "stdout",
     "output_type": "stream",
     "text": [
      "[[3 2 1]\n",
      " [6 5 4]\n",
      " [9 8 7]]\n"
     ]
    }
   ],
   "source": [
    "a = np.array([[1, 2, 3],\n",
    "              [4, 5, 6],\n",
    "              [7, 8, 9]])\n",
    "b = np.array([[0, 0, 1],\n",
    "              [0, 1, 0],\n",
    "              [1, 0, 0]])\n",
    "print(a @ b)"
   ]
  },
  {
   "cell_type": "code",
   "execution_count": 118,
   "id": "bec9fade",
   "metadata": {},
   "outputs": [
    {
     "name": "stdout",
     "output_type": "stream",
     "text": [
      "[[ 1  5  9]\n",
      " [ 2  6 10]\n",
      " [ 3  7 11]\n",
      " [ 4  8 12]]\n",
      "\n",
      "[[ 4  8 12]\n",
      " [ 3  7 11]\n",
      " [ 2  6 10]\n",
      " [ 1  5  9]]\n",
      "\n",
      "[[ 4  8 12]\n",
      " [ 3  7 11]\n",
      " [ 2  6 10]\n",
      " [ 1  5  9]]\n"
     ]
    }
   ],
   "source": [
    "a = np.arange(1, 13).reshape(3, 4)\n",
    "\n",
    "print(a.transpose())\n",
    "print()\n",
    "print(np.rot90(a))\n",
    "print()\n",
    "print(np.rot90(a))"
   ]
  },
  {
   "cell_type": "code",
   "execution_count": 121,
   "id": "4fcc0960",
   "metadata": {},
   "outputs": [
    {
     "name": "stdout",
     "output_type": "stream",
     "text": [
      "45\n",
      "1\n",
      "9\n"
     ]
    }
   ],
   "source": [
    "a = np.array([[1, 2, 3],\n",
    "              [4, 5, 6],\n",
    "              [7, 8, 9]])\n",
    "print(a.sum())\n",
    "print(a.min())\n",
    "print(a.max())\n",
    "\n"
   ]
  },
  {
   "cell_type": "code",
   "execution_count": 126,
   "id": "30f7544a",
   "metadata": {},
   "outputs": [
    {
     "name": "stdout",
     "output_type": "stream",
     "text": [
      "[ 6 15 24]\n",
      "[12 15 18]\n",
      "[1 4 7]\n",
      "[3 6 9]\n"
     ]
    }
   ],
   "source": [
    "a = np.array([[1, 2, 3],\n",
    "              [4, 5, 6],\n",
    "              [7, 8, 9]])\n",
    "\n",
    "print(a.sum(axis=1)) #по строкам\n",
    "print(a.sum(axis=0)) #по столбцам \n",
    "print(a.min(axis=1))  # Минимум по столбцам\n",
    "print(a.max(axis=1))  # Максимум по строкам"
   ]
  },
  {
   "cell_type": "code",
   "execution_count": 150,
   "id": "ba0036d2",
   "metadata": {},
   "outputs": [
    {
     "name": "stdout",
     "output_type": "stream",
     "text": [
      "[[ 1  2  3  4]\n",
      " [ 5  6  7  8]\n",
      " [ 9 10 11 12]\n",
      " [13 14 15 16]]\n",
      "\n",
      "[[3 4]\n",
      " [7 8]]\n",
      "\n",
      "[[ 1  3]\n",
      " [ 9 11]]\n"
     ]
    }
   ],
   "source": [
    "a = np.arange(1, 17).reshape(4, 4)\n",
    "print(a)\n",
    "print()\n",
    "print(a[:2, 2:]) # Срез: строки, столбцы\n",
    "print()\n",
    "print(a[::2, ::2])"
   ]
  },
  {
   "cell_type": "code",
   "execution_count": 155,
   "id": "810e05de",
   "metadata": {},
   "outputs": [
    {
     "name": "stdout",
     "output_type": "stream",
     "text": [
      "[[ 1  2  3  4]\n",
      " [ 5  6  7  8]\n",
      " [ 9 10 11 12]]\n",
      "\n",
      "[1 2 3 4]\n",
      "[5 6 7 8]\n",
      "[ 9 10 11 12]\n"
     ]
    }
   ],
   "source": [
    "a = np.arange(1, 13).reshape(3, 4)\n",
    "print(a)\n",
    "print()\n",
    "for row in a:\n",
    "    print(row)"
   ]
  },
  {
   "cell_type": "code",
   "execution_count": 165,
   "id": "cde65b27",
   "metadata": {},
   "outputs": [
    {
     "name": "stdout",
     "output_type": "stream",
     "text": [
      "1; 2; 3; 4; 5; 6; 7; 8; 9; 10; 11; 12\n",
      "\n"
     ]
    }
   ],
   "source": [
    "a = np.arange(1, 13).reshape(3, 4)\n",
    "print(\"; \".join(str(el) for el in a.flat))\n",
    "print()"
   ]
  },
  {
   "cell_type": "code",
   "execution_count": 177,
   "id": "52b520a7",
   "metadata": {},
   "outputs": [
    {
     "name": "stdout",
     "output_type": "stream",
     "text": [
      "[[55]]\n"
     ]
    }
   ],
   "source": [
    "def multiplication_matrix(N):\n",
    "    a = np.arange(1, N + 1).reshape(1, N)\n",
    "    b = np.arange(1, N + 1).reshape(N, 1)\n",
    "    return a @ b\n",
    "\n",
    "print(multiplication_matrix(5))"
   ]
  },
  {
   "cell_type": "code",
   "execution_count": 204,
   "id": "a150e6bf",
   "metadata": {},
   "outputs": [
    {
     "name": "stdout",
     "output_type": "stream",
     "text": [
      "[[1 0 1 0 1]\n",
      " [0 1 0 1 0]\n",
      " [1 0 1 0 1]\n",
      " [0 1 0 1 0]\n",
      " [1 0 1 0 1]]\n"
     ]
    }
   ],
   "source": [
    "def make_board(N):\n",
    "    a = np.zeros((N, N), dtype=np.int8)\n",
    "    a[::2, ::2] = 1\n",
    "    a[1::2, 1::2] = 1\n",
    "    return a\n",
    "\n",
    "print(make_board(5))"
   ]
  },
  {
   "cell_type": "code",
   "execution_count": null,
   "id": "50e5cceb",
   "metadata": {},
   "outputs": [
    {
     "name": "stdout",
     "output_type": "stream",
     "text": [
      "[[ 1  2  3  4  5]\n",
      " [ 6  7  8  9 10]\n",
      " [11 12 13 14 15]]\n"
     ]
    }
   ],
   "source": [
    "def snake(M, N, direction=\"H\"):\n",
    "    new = np.arange(1, M * N + 1).reshape(N, M)\n",
    "    new = np.array(new, dtype=\"int16\")\n",
    "    \n",
    "    \n",
    "    return new\n",
    "\n",
    "print(snake(5, 3, direction='V'))"
   ]
  },
  {
   "cell_type": "code",
   "execution_count": null,
   "id": "27b4aa33",
   "metadata": {},
   "outputs": [],
   "source": []
  }
 ],
 "metadata": {
  "kernelspec": {
   "display_name": "Python (base)",
   "language": "python",
   "name": "base"
  },
  "language_info": {
   "codemirror_mode": {
    "name": "ipython",
    "version": 3
   },
   "file_extension": ".py",
   "mimetype": "text/x-python",
   "name": "python",
   "nbconvert_exporter": "python",
   "pygments_lexer": "ipython3",
   "version": "3.12.7"
  }
 },
 "nbformat": 4,
 "nbformat_minor": 5
}
