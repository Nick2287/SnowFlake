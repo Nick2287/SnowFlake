{
 "cells": [
  {
   "cell_type": "markdown",
   "id": "adf34233",
   "metadata": {},
   "source": [
    "**EDA**"
   ]
  },
  {
   "cell_type": "code",
   "execution_count": 53,
   "id": "5878f60b",
   "metadata": {},
   "outputs": [],
   "source": [
    "import pandas as pd\n",
    "import seaborn as sns\n",
    "from sklearn.model_selection import train_test_split as tts\n",
    "import numpy as np\n",
    "from sklearn.preprocessing import LabelEncoder as le\n",
    "import matplotlib.pyplot as plt"
   ]
  },
  {
   "cell_type": "code",
   "execution_count": 54,
   "id": "df76e28b",
   "metadata": {},
   "outputs": [],
   "source": [
    "df = pd.read_csv('https://raw.githubusercontent.com/prvshnat/hsedata2425/refs/heads/main/insurance_v2.csv')"
   ]
  },
  {
   "cell_type": "code",
   "execution_count": 55,
   "id": "2a937a56",
   "metadata": {},
   "outputs": [],
   "source": [
    "X1 = df[[\"age\"]]\n",
    "Y12 = df[\"charges\"]\n",
    "\n",
    "X_train1, X_test1, y_train1, y_test1 = tts(X1, Y12,\n",
    "                                            test_size=0.2,\n",
    "                                            random_state=42)"
   ]
  },
  {
   "cell_type": "code",
   "execution_count": 56,
   "id": "2c804f04",
   "metadata": {},
   "outputs": [],
   "source": [
    "X23 = df[[\"age\", \"smoker_encoded\"]]\n",
    "Y12 = df[\"charges\"]\n",
    "\n",
    "X_train2, X_test2, y_train2, y_test2 = tts(X23, Y12,\n",
    "                                            test_size=0.2,\n",
    "                                            random_state=42)"
   ]
  },
  {
   "cell_type": "code",
   "execution_count": 57,
   "id": "7c7eb4c7",
   "metadata": {},
   "outputs": [],
   "source": [
    "X23 = df[['age', 'smoker_encoded']]\n",
    "Y3 = df['ln_charges']\n",
    "\n",
    "X_train3, X_test3, y_train3, y_test3 = tts(X23, Y3,\n",
    "                                                        test_size=0.2,\n",
    "                                                        random_state=42)"
   ]
  },
  {
   "cell_type": "code",
   "execution_count": 58,
   "id": "8d901632",
   "metadata": {},
   "outputs": [],
   "source": [
    "from sklearn.linear_model import LinearRegression"
   ]
  },
  {
   "cell_type": "code",
   "execution_count": 59,
   "id": "d6b39880",
   "metadata": {},
   "outputs": [],
   "source": [
    "model1 = LinearRegression().fit(X_train1, y_train1)"
   ]
  },
  {
   "cell_type": "code",
   "execution_count": 60,
   "id": "8e49f72b",
   "metadata": {},
   "outputs": [],
   "source": [
    "model2 = LinearRegression().fit(X_train2, y_train2)"
   ]
  },
  {
   "cell_type": "code",
   "execution_count": 61,
   "id": "7368ab3b",
   "metadata": {},
   "outputs": [],
   "source": [
    "model3 = LinearRegression().fit(X_train3, y_train3)"
   ]
  },
  {
   "cell_type": "code",
   "execution_count": 62,
   "id": "301b9800",
   "metadata": {},
   "outputs": [],
   "source": [
    "from sklearn.metrics import mean_squared_error, mean_absolute_error, r2_score"
   ]
  },
  {
   "cell_type": "code",
   "execution_count": 63,
   "id": "7dccbc2e",
   "metadata": {},
   "outputs": [
    {
     "data": {
      "text/plain": [
       "(121912378.09308091, 8769.553966214462, 0.12292452344739047)"
      ]
     },
     "execution_count": 63,
     "metadata": {},
     "output_type": "execute_result"
    }
   ],
   "source": [
    "y_pred1 = model1.predict(X_test1)\n",
    "\n",
    "MSE1 = mean_squared_error(y_test1, y_pred1)\n",
    "MAE1 = mean_absolute_error(y_test1, y_pred1)\n",
    "R2_1 = r2_score(y_test1, y_pred1)\n",
    "\n",
    "(MSE1, MAE1, R2_1)"
   ]
  }
 ],
 "metadata": {
  "kernelspec": {
   "display_name": "base",
   "language": "python",
   "name": "python3"
  },
  "language_info": {
   "codemirror_mode": {
    "name": "ipython",
    "version": 3
   },
   "file_extension": ".py",
   "mimetype": "text/x-python",
   "name": "python",
   "nbconvert_exporter": "python",
   "pygments_lexer": "ipython3",
   "version": "3.13.5"
  }
 },
 "nbformat": 4,
 "nbformat_minor": 5
}
