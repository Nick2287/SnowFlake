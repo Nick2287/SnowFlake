{
 "cells": [
  {
   "cell_type": "markdown",
   "id": "e73da3cc",
   "metadata": {},
   "source": [
    "Теория: \n",
    "\n",
    "**ОПИСАТЕЛЬНЫЕ СТАТИСТИКИ** - используются, чтобы описать типичное значение в данных. \n",
    "\n",
    "**Меры центральной тенденции**\n",
    "1. Среднее арифметическое - для *количественных признаков и категориальных бинарных*. *Не устойчива к выбросам*\n",
    "2. Медиана - для *количественных признаков*, *устойчива к выбросам*\n",
    "3. Мода - для *категориальных признаков*, *количественных значений для подсчета частоты*\n",
    "\n",
    "**Распределение данных**\n",
    "1. Симметричные распределения: либо среднее == моде == медиане. Либо среднее == медиане и две моды - бимодальное распределение.\n",
    "2. Ассиметричные распределения\n",
    "- Правосторонняя ассиметрия - хвост двигается в правую сторону (может быть бимодальное распределение)\n",
    "- Левосторонняя ассиметрия - хвост двигается в левую сторону (может быть бимодальное распределение)\n",
    "\n",
    "\n",
    "Выбросы - экстремальные значения. Их важно удалять, чтобы работать с основной массой данных, и чтобы они не влияли на различные меры. \n",
    "\n",
    "Два метода для удаления выбросов: \n",
    "1. Метод N стандартных отклонений - находим левую и правую границу через формулу: mean +- N * std. Все, что вошло в границы - нормальные данные\n",
    "2. Метод 1,5 межквартальных размаха - находим левую и правую границу через формулу: *Q1 - 1.5 * IQR*, *Q3 + 1.5 * IQR*\n",
    "\n",
    "# если хотим посмотреть только на выбросы, то используем *df[df[\"признак\"].between(left, right) **== False**]* либо *df[(df[\"признак\"] < left) | (df[\"признак\"] > right)]*\n",
    "\n",
    "**ЯЩИК С УСАМИ**\n",
    "- В середине медиана, \n",
    "- границы - Q1 и Q3, их рпазница - IQR\n",
    "- ящик - межквартальные размахи\n",
    "- самые левый и правый выбросы - min, max соотв\n",
    "\n",
    "**ПРОПУСКИ**\n",
    "- доля считается, как *df.isna().mean()*\n",
    "- для удаления столбца: df.drop(\"признак\", axis=1)"
   ]
  },
  {
   "cell_type": "code",
   "execution_count": 38,
   "id": "f5b6ebfd",
   "metadata": {},
   "outputs": [],
   "source": [
    "import pandas as pd\n",
    "import numpy as np"
   ]
  },
  {
   "cell_type": "code",
   "execution_count": 39,
   "id": "607cba99",
   "metadata": {},
   "outputs": [],
   "source": [
    "df = pd.read_csv(\"/Users/nickolaykrasnenko/Documents/GitHub/SnowFlake/Python_Analysis/Pandas_practice/Practice3/bank_data.csv\")"
   ]
  },
  {
   "cell_type": "code",
   "execution_count": 40,
   "id": "c9dc4c18",
   "metadata": {},
   "outputs": [
    {
     "data": {
      "text/html": [
       "<div>\n",
       "<style scoped>\n",
       "    .dataframe tbody tr th:only-of-type {\n",
       "        vertical-align: middle;\n",
       "    }\n",
       "\n",
       "    .dataframe tbody tr th {\n",
       "        vertical-align: top;\n",
       "    }\n",
       "\n",
       "    .dataframe thead th {\n",
       "        text-align: right;\n",
       "    }\n",
       "</style>\n",
       "<table border=\"1\" class=\"dataframe\">\n",
       "  <thead>\n",
       "    <tr style=\"text-align: right;\">\n",
       "      <th></th>\n",
       "      <th>SK_ID_CURR</th>\n",
       "      <th>NAME_CONTRACT_TYPE</th>\n",
       "      <th>AMT_CREDIT</th>\n",
       "      <th>AMT_ANNUITY</th>\n",
       "      <th>CODE_GENDER</th>\n",
       "      <th>AGE</th>\n",
       "      <th>NAME_FAMILY_STATUS</th>\n",
       "      <th>NAME_HOUSING_TYPE</th>\n",
       "      <th>NAME_INCOME_TYPE</th>\n",
       "      <th>AMT_INCOME_TOTAL</th>\n",
       "      <th>TARGET</th>\n",
       "    </tr>\n",
       "  </thead>\n",
       "  <tbody>\n",
       "    <tr>\n",
       "      <th>0</th>\n",
       "      <td>230160</td>\n",
       "      <td>Cash loans</td>\n",
       "      <td>162000.0</td>\n",
       "      <td>12928.5</td>\n",
       "      <td>M</td>\n",
       "      <td>54.0</td>\n",
       "      <td>Widow</td>\n",
       "      <td>House / apartment</td>\n",
       "      <td>Working</td>\n",
       "      <td>67500.0</td>\n",
       "      <td>0</td>\n",
       "    </tr>\n",
       "    <tr>\n",
       "      <th>1</th>\n",
       "      <td>199156</td>\n",
       "      <td>Cash loans</td>\n",
       "      <td>253737.0</td>\n",
       "      <td>20178.0</td>\n",
       "      <td>F</td>\n",
       "      <td>50.0</td>\n",
       "      <td>Married</td>\n",
       "      <td>Rented apartment</td>\n",
       "      <td>Unemployed</td>\n",
       "      <td>45000.0</td>\n",
       "      <td>0</td>\n",
       "    </tr>\n",
       "    <tr>\n",
       "      <th>2</th>\n",
       "      <td>379007</td>\n",
       "      <td>Cash loans</td>\n",
       "      <td>126000.0</td>\n",
       "      <td>8203.5</td>\n",
       "      <td>F</td>\n",
       "      <td>33.0</td>\n",
       "      <td>Married</td>\n",
       "      <td>House / apartment</td>\n",
       "      <td>Unemployed</td>\n",
       "      <td>67500.0</td>\n",
       "      <td>0</td>\n",
       "    </tr>\n",
       "    <tr>\n",
       "      <th>3</th>\n",
       "      <td>109133</td>\n",
       "      <td>Cash loans</td>\n",
       "      <td>679500.0</td>\n",
       "      <td>27076.5</td>\n",
       "      <td>F</td>\n",
       "      <td>59.0</td>\n",
       "      <td>Married</td>\n",
       "      <td>House / apartment</td>\n",
       "      <td>Unemployed</td>\n",
       "      <td>121500.0</td>\n",
       "      <td>0</td>\n",
       "    </tr>\n",
       "    <tr>\n",
       "      <th>4</th>\n",
       "      <td>302937</td>\n",
       "      <td>Cash loans</td>\n",
       "      <td>193392.0</td>\n",
       "      <td>7420.5</td>\n",
       "      <td>F</td>\n",
       "      <td>61.0</td>\n",
       "      <td>Widow</td>\n",
       "      <td>House / apartment</td>\n",
       "      <td>Working</td>\n",
       "      <td>166500.0</td>\n",
       "      <td>0</td>\n",
       "    </tr>\n",
       "    <tr>\n",
       "      <th>...</th>\n",
       "      <td>...</td>\n",
       "      <td>...</td>\n",
       "      <td>...</td>\n",
       "      <td>...</td>\n",
       "      <td>...</td>\n",
       "      <td>...</td>\n",
       "      <td>...</td>\n",
       "      <td>...</td>\n",
       "      <td>...</td>\n",
       "      <td>...</td>\n",
       "      <td>...</td>\n",
       "    </tr>\n",
       "    <tr>\n",
       "      <th>9991</th>\n",
       "      <td>425676</td>\n",
       "      <td>Cash loans</td>\n",
       "      <td>352044.0</td>\n",
       "      <td>17122.5</td>\n",
       "      <td>F</td>\n",
       "      <td>38.0</td>\n",
       "      <td>Separated</td>\n",
       "      <td>House / apartment</td>\n",
       "      <td>Businessman</td>\n",
       "      <td>247500.0</td>\n",
       "      <td>0</td>\n",
       "    </tr>\n",
       "    <tr>\n",
       "      <th>9992</th>\n",
       "      <td>372546</td>\n",
       "      <td>Cash loans</td>\n",
       "      <td>545040.0</td>\n",
       "      <td>19705.5</td>\n",
       "      <td>F</td>\n",
       "      <td>51.0</td>\n",
       "      <td>Separated</td>\n",
       "      <td>House / apartment</td>\n",
       "      <td>Working</td>\n",
       "      <td>121500.0</td>\n",
       "      <td>0</td>\n",
       "    </tr>\n",
       "    <tr>\n",
       "      <th>9993</th>\n",
       "      <td>152089</td>\n",
       "      <td>Cash loans</td>\n",
       "      <td>1006069.5</td>\n",
       "      <td>36265.5</td>\n",
       "      <td>F</td>\n",
       "      <td>26.0</td>\n",
       "      <td>Married</td>\n",
       "      <td>House / apartment</td>\n",
       "      <td>Businessman</td>\n",
       "      <td>270000.0</td>\n",
       "      <td>0</td>\n",
       "    </tr>\n",
       "    <tr>\n",
       "      <th>9994</th>\n",
       "      <td>150977</td>\n",
       "      <td>Cash loans</td>\n",
       "      <td>135000.0</td>\n",
       "      <td>14670.0</td>\n",
       "      <td>M</td>\n",
       "      <td>28.0</td>\n",
       "      <td>Married</td>\n",
       "      <td>House / apartment</td>\n",
       "      <td>Businessman</td>\n",
       "      <td>225000.0</td>\n",
       "      <td>0</td>\n",
       "    </tr>\n",
       "    <tr>\n",
       "      <th>9995</th>\n",
       "      <td>120861</td>\n",
       "      <td>Cash loans</td>\n",
       "      <td>270126.0</td>\n",
       "      <td>14782.5</td>\n",
       "      <td>M</td>\n",
       "      <td>25.0</td>\n",
       "      <td>Single / not married</td>\n",
       "      <td>With parents</td>\n",
       "      <td>Working</td>\n",
       "      <td>112500.0</td>\n",
       "      <td>0</td>\n",
       "    </tr>\n",
       "  </tbody>\n",
       "</table>\n",
       "<p>9996 rows × 11 columns</p>\n",
       "</div>"
      ],
      "text/plain": [
       "      SK_ID_CURR NAME_CONTRACT_TYPE  AMT_CREDIT  AMT_ANNUITY CODE_GENDER  \\\n",
       "0         230160         Cash loans    162000.0      12928.5           M   \n",
       "1         199156         Cash loans    253737.0      20178.0           F   \n",
       "2         379007         Cash loans    126000.0       8203.5           F   \n",
       "3         109133         Cash loans    679500.0      27076.5           F   \n",
       "4         302937         Cash loans    193392.0       7420.5           F   \n",
       "...          ...                ...         ...          ...         ...   \n",
       "9991      425676         Cash loans    352044.0      17122.5           F   \n",
       "9992      372546         Cash loans    545040.0      19705.5           F   \n",
       "9993      152089         Cash loans   1006069.5      36265.5           F   \n",
       "9994      150977         Cash loans    135000.0      14670.0           M   \n",
       "9995      120861         Cash loans    270126.0      14782.5           M   \n",
       "\n",
       "       AGE    NAME_FAMILY_STATUS  NAME_HOUSING_TYPE NAME_INCOME_TYPE  \\\n",
       "0     54.0                 Widow  House / apartment          Working   \n",
       "1     50.0               Married   Rented apartment       Unemployed   \n",
       "2     33.0               Married  House / apartment       Unemployed   \n",
       "3     59.0               Married  House / apartment       Unemployed   \n",
       "4     61.0                 Widow  House / apartment          Working   \n",
       "...    ...                   ...                ...              ...   \n",
       "9991  38.0             Separated  House / apartment      Businessman   \n",
       "9992  51.0             Separated  House / apartment          Working   \n",
       "9993  26.0               Married  House / apartment      Businessman   \n",
       "9994  28.0               Married  House / apartment      Businessman   \n",
       "9995  25.0  Single / not married       With parents          Working   \n",
       "\n",
       "      AMT_INCOME_TOTAL  TARGET  \n",
       "0              67500.0       0  \n",
       "1              45000.0       0  \n",
       "2              67500.0       0  \n",
       "3             121500.0       0  \n",
       "4             166500.0       0  \n",
       "...                ...     ...  \n",
       "9991          247500.0       0  \n",
       "9992          121500.0       0  \n",
       "9993          270000.0       0  \n",
       "9994          225000.0       0  \n",
       "9995          112500.0       0  \n",
       "\n",
       "[9996 rows x 11 columns]"
      ]
     },
     "execution_count": 40,
     "metadata": {},
     "output_type": "execute_result"
    }
   ],
   "source": [
    "round(df.isna().sum() / df.isna().count() * 100, 2)\n",
    "df"
   ]
  },
  {
   "cell_type": "code",
   "execution_count": 41,
   "id": "35a778c4",
   "metadata": {},
   "outputs": [
    {
     "data": {
      "text/plain": [
       "140.17"
      ]
     },
     "execution_count": 41,
     "metadata": {},
     "output_type": "execute_result"
    }
   ],
   "source": [
    "age_clean_isna = df.groupby(\"NAME_CONTRACT_TYPE\")[\"AGE\"].transform(\"mean\")\n",
    "\n",
    "age_clean_isna = df[\"AGE\"].mean()\n",
    "\n",
    "df[\"AGE_CLEAN\"] = df[\"AGE\"].fillna(age_clean_isna)\n",
    "\n",
    "round(df[\"AGE_CLEAN\"].var(), 2)"
   ]
  },
  {
   "cell_type": "code",
   "execution_count": 42,
   "id": "5097e533",
   "metadata": {},
   "outputs": [
    {
     "data": {
      "text/plain": [
       "658"
      ]
     },
     "execution_count": 42,
     "metadata": {},
     "output_type": "execute_result"
    }
   ],
   "source": [
    "code_gen_max = df[\"CODE_GENDER\"].value_counts().idxmax()\n",
    "\n",
    "df[\"CODE_GENDER_CLEAN\"] = df[\"CODE_GENDER\"].fillna(code_gen_max)\n",
    "\n",
    "df[(df[\"CODE_GENDER_CLEAN\"] == \"F\") & (df[\"NAME_FAMILY_STATUS\"] == \"Civil marriage\")].shape[0]"
   ]
  },
  {
   "cell_type": "code",
   "execution_count": 43,
   "id": "399d86d1",
   "metadata": {},
   "outputs": [
    {
     "data": {
      "text/plain": [
       "<Axes: xlabel='AMT_INCOME_TOTAL', ylabel='CODE_INCOME'>"
      ]
     },
     "execution_count": 43,
     "metadata": {},
     "output_type": "execute_result"
    },
    {
     "data": {
      "image/png": "[encoded data removed]",
      "text/plain": [
       "<Figure size 640x480 with 1 Axes>"
      ]
     },
     "metadata": {},
     "output_type": "display_data"
    }
   ],
   "source": [
    "Q1 = df[\"AMT_INCOME_TOTAL\"].quantile(0.25)\n",
    "Q3 = df[\"AMT_INCOME_TOTAL\"].quantile(0.75)\n",
    "\n",
    "\n",
    "def func(x):\n",
    "    if x <= Q1:\n",
    "        return \"low\"\n",
    "    elif x <= Q3:\n",
    "        return \"medium\"\n",
    "    else:\n",
    "        return \"high\"\n",
    "        \n",
    "        \n",
    "df[\"CODE_INCOME\"] = df[\"AMT_INCOME_TOTAL\"].apply(func)\n",
    "\n",
    "from tkinter import VERTICAL\n",
    "import seaborn as sns\n",
    "order_list = ['high', 'medium', 'low']\n",
    "sns.boxplot(data=df, x=\"AMT_INCOME_TOTAL\", y=\"CODE_INCOME\", order=order_list)"
   ]
  },
  {
   "cell_type": "code",
   "execution_count": 44,
   "id": "b8759501",
   "metadata": {},
   "outputs": [
    {
     "data": {
      "text/plain": [
       "CODE_INCOME\n",
       "high      2.418511e+11\n",
       "medium    1.382495e+11\n",
       "low       8.207722e+10\n",
       "Name: AMT_CREDIT, dtype: float64"
      ]
     },
     "execution_count": 44,
     "metadata": {},
     "output_type": "execute_result"
    }
   ],
   "source": [
    "par3 = df.groupby(\"CODE_INCOME\")[\"AMT_CREDIT\"].agg(\"var\")\n",
    "\n",
    "par3.sort_values(ascending=False)"
   ]
  },
  {
   "cell_type": "code",
   "execution_count": 45,
   "id": "9cb52c3c",
   "metadata": {},
   "outputs": [
    {
     "data": {
      "text/plain": [
       "600105.09"
      ]
     },
     "execution_count": 45,
     "metadata": {},
     "output_type": "execute_result"
    }
   ],
   "source": [
    "median_code = df.groupby(\"CODE_INCOME\")[\"AMT_CREDIT\"].transform(\"median\")\n",
    "\n",
    "df[\"AMT_CREDIT_CLEAN\"] = df[\"AMT_CREDIT\"].fillna(median_code)\n",
    "\n",
    "round(df[\"AMT_CREDIT_CLEAN\"].mean(), 2)"
   ]
  },
  {
   "cell_type": "code",
   "execution_count": 46,
   "id": "2638af60",
   "metadata": {},
   "outputs": [
    {
     "data": {
      "text/plain": [
       "<Axes: ylabel='NAME_INCOME_TYPE'>"
      ]
     },
     "execution_count": 46,
     "metadata": {},
     "output_type": "execute_result"
    },
    {
     "data": {
      "image/png": "[encoded data removed]",
      "text/plain": [
       "<Figure size 640x480 with 1 Axes>"
      ]
     },
     "metadata": {},
     "output_type": "display_data"
    }
   ],
   "source": [
    "par4 = df.groupby(\"NAME_INCOME_TYPE\")[\"AMT_INCOME_TOTAL\"].median()\n",
    "\n",
    "par4.sort_values().plot.barh()"
   ]
  },
  {
   "cell_type": "code",
   "execution_count": 47,
   "id": "cc32c13e",
   "metadata": {},
   "outputs": [
    {
     "data": {
      "text/plain": [
       "601053.37"
      ]
     },
     "execution_count": 47,
     "metadata": {},
     "output_type": "execute_result"
    }
   ],
   "source": [
    "mode_code = df.groupby(\"CODE_INCOME\")[\"NAME_INCOME_TYPE\"].transform(lambda x: x.mode()[0])\n",
    "\n",
    "df[\"NAME_INCOME_TYPE_CLEAN\"] = df[\"NAME_INCOME_TYPE\"].fillna(mode_code)\n",
    "\n",
    "round(df[(df[\"NAME_INCOME_TYPE_CLEAN\"] == \"Working\") & (df[\"CODE_INCOME\"] == \"medium\")][\"AMT_CREDIT_CLEAN\"].mean(), 2)"
   ]
  },
  {
   "cell_type": "code",
   "execution_count": 48,
   "id": "e7fa7371",
   "metadata": {},
   "outputs": [
    {
     "data": {
      "text/plain": [
       "63.16"
      ]
     },
     "execution_count": 48,
     "metadata": {},
     "output_type": "execute_result"
    },
    {
     "data": {
      "image/png": "[encoded data removed]",
      "text/plain": [
       "<Figure size 640x480 with 1 Axes>"
      ]
     },
     "metadata": {},
     "output_type": "display_data"
    }
   ],
   "source": [
    "df[\"AMT_DURATION\"] = - np.log(1 - ((0.2/12 * df[\"AMT_CREDIT_CLEAN\"]))/df[\"AMT_ANNUITY\"])/np.log(1 + 0.2/12)\n",
    "\n",
    "df[\"AMT_DURATION\"].plot(kind=\"box\", vert=False)\n",
    "\n",
    "IQR = df[\"AMT_DURATION\"].quantile(0.75) - df[\"AMT_DURATION\"].quantile(0.25)\n",
    "\n",
    "round(df[\"AMT_DURATION\"].agg(lambda x: x.quantile(0.75) + 1.5 * IQR), 2)"
   ]
  },
  {
   "cell_type": "code",
   "execution_count": 49,
   "id": "c3da191e",
   "metadata": {},
   "outputs": [
    {
     "data": {
      "text/plain": [
       "234.40637159531"
      ]
     },
     "execution_count": 49,
     "metadata": {},
     "output_type": "execute_result"
    }
   ],
   "source": [
    "df[\"AMT_DURATION\"].max()"
   ]
  },
  {
   "cell_type": "code",
   "execution_count": 50,
   "id": "21e1d6d1",
   "metadata": {},
   "outputs": [],
   "source": [
    "Q1_low = df[\"AMT_DURATION\"].quantile(0.25) - 1.5 * IQR\n",
    "Q3_high = df[\"AMT_DURATION\"].quantile(0.75) + 1.5 * IQR\n",
    "\n",
    "\n",
    "temp = df.copy()\n",
    "\n",
    "temp = temp[temp[\"AMT_DURATION\"].between(Q1_low, Q3_high)]"
   ]
  },
  {
   "cell_type": "code",
   "execution_count": 51,
   "id": "98bf98ac",
   "metadata": {},
   "outputs": [
    {
     "data": {
      "text/plain": [
       "<Axes: ylabel='Frequency'>"
      ]
     },
     "execution_count": 51,
     "metadata": {},
     "output_type": "execute_result"
    },
    {
     "data": {
      "image/png": "[encoded data removed]",
      "text/plain": [
       "<Figure size 640x480 with 1 Axes>"
      ]
     },
     "metadata": {},
     "output_type": "display_data"
    }
   ],
   "source": [
    "temp[\"ln_AMT_ANNUITY\"] = np.log(temp[\"AMT_ANNUITY\"])\n",
    "\n",
    "temp[\"AMT_ANNUITY\"].plot.hist(bins=30)"
   ]
  },
  {
   "cell_type": "code",
   "execution_count": 52,
   "id": "d328c313",
   "metadata": {},
   "outputs": [
    {
     "data": {
      "text/plain": [
       "9562"
      ]
     },
     "execution_count": 52,
     "metadata": {},
     "output_type": "execute_result"
    }
   ],
   "source": [
    "std_low = temp['ln_AMT_ANNUITY'].mean() - 2 * temp['ln_AMT_ANNUITY'].std()\n",
    "std_high = temp['ln_AMT_ANNUITY'].mean() + 2 * temp['ln_AMT_ANNUITY'].std()\n",
    "\n",
    "\n",
    "df_clean = temp[temp['ln_AMT_ANNUITY'].between(std_low, std_high)]\n",
    "\n",
    "df_clean.shape[0]"
   ]
  },
  {
   "cell_type": "code",
   "execution_count": 53,
   "id": "857c8879",
   "metadata": {},
   "outputs": [
    {
     "data": {
      "text/plain": [
       "<Axes: xlabel='AMT_CREDIT_CLEAN', ylabel='NAME_CONTRACT_TYPE'>"
      ]
     },
     "execution_count": 53,
     "metadata": {},
     "output_type": "execute_result"
    },
    {
     "data": {
      "image/png": "[encoded data removed]",
      "text/plain": [
       "<Figure size 640x480 with 1 Axes>"
      ]
     },
     "metadata": {},
     "output_type": "display_data"
    }
   ],
   "source": [
    "sns.violinplot(data=df_clean, x='AMT_CREDIT_CLEAN', y='NAME_CONTRACT_TYPE')\n"
   ]
  },
  {
   "cell_type": "code",
   "execution_count": 54,
   "id": "758cb6a2",
   "metadata": {},
   "outputs": [
    {
     "data": {
      "text/plain": [
       "NAME_CONTRACT_TYPE\n",
       "Cash loans         541224.0\n",
       "Revolving loans    270000.0\n",
       "Name: AMT_CREDIT_CLEAN, dtype: float64"
      ]
     },
     "execution_count": 54,
     "metadata": {},
     "output_type": "execute_result"
    }
   ],
   "source": [
    "df_clean.groupby(\"NAME_CONTRACT_TYPE\")['AMT_CREDIT_CLEAN'].median()"
   ]
  },
  {
   "cell_type": "code",
   "execution_count": 55,
   "id": "028b7bbf",
   "metadata": {},
   "outputs": [
    {
     "data": {
      "text/plain": [
       "2445345.0"
      ]
     },
     "execution_count": 55,
     "metadata": {},
     "output_type": "execute_result"
    }
   ],
   "source": [
    "df_clean[\"AMT_CREDIT\"].max() - df_clean[\"AMT_CREDIT\"].min()"
   ]
  },
  {
   "cell_type": "code",
   "execution_count": 56,
   "id": "2a1d3dbc",
   "metadata": {},
   "outputs": [
    {
     "name": "stderr",
     "output_type": "stream",
     "text": [
      "/var/folders/nx/gz3nx61j43sgg1vjqk1pfrtm0000gn/T/ipykernel_18190/829827788.py:3: SettingWithCopyWarning: \n",
      "A value is trying to be set on a copy of a slice from a DataFrame.\n",
      "Try using .loc[row_indexer,col_indexer] = value instead\n",
      "\n",
      "See the caveats in the documentation: https://pandas.pydata.org/pandas-docs/stable/user_guide/indexing.html#returning-a-view-versus-a-copy\n",
      "  df_clean[\"AMT_ANNUITY_av_dev\"] = df_clean[\"AMT_ANNUITY\"].apply(lambda x: abs(mean_df - x))\n"
     ]
    },
    {
     "data": {
      "text/plain": [
       "10186.76"
      ]
     },
     "execution_count": 56,
     "metadata": {},
     "output_type": "execute_result"
    }
   ],
   "source": [
    "mean_df = df_clean[\"AMT_ANNUITY\"].mean()\n",
    "\n",
    "df_clean[\"AMT_ANNUITY_av_dev\"] = df_clean[\"AMT_ANNUITY\"].apply(lambda x: abs(mean_df - x))\n",
    "\n",
    "round(df_clean[\"AMT_ANNUITY_av_dev\"].mean(), 2)"
   ]
  },
  {
   "cell_type": "code",
   "execution_count": 57,
   "id": "c7cfcfed",
   "metadata": {},
   "outputs": [
    {
     "data": {
      "text/plain": [
       "NAME_FAMILY_STATUS\n",
       "Married                 6109\n",
       "Single / not married    1448\n",
       "Civil marriage           897\n",
       "Separated                632\n",
       "Widow                    476\n",
       "Name: count, dtype: int64"
      ]
     },
     "execution_count": 57,
     "metadata": {},
     "output_type": "execute_result"
    }
   ],
   "source": [
    "df_clean[\"NAME_FAMILY_STATUS\"].value_counts()"
   ]
  },
  {
   "cell_type": "code",
   "execution_count": 58,
   "id": "4deef4ba",
   "metadata": {},
   "outputs": [
    {
     "data": {
      "text/plain": [
       "TARGET\n",
       "0    0.91529\n",
       "1    0.08471\n",
       "Name: proportion, dtype: float64"
      ]
     },
     "execution_count": 58,
     "metadata": {},
     "output_type": "execute_result"
    }
   ],
   "source": [
    "df_clean[\"TARGET\"].value_counts(normalize=True)"
   ]
  },
  {
   "cell_type": "code",
   "execution_count": 59,
   "id": "c890b732",
   "metadata": {},
   "outputs": [
    {
     "data": {
      "text/plain": [
       "157500.0"
      ]
     },
     "execution_count": 59,
     "metadata": {},
     "output_type": "execute_result"
    }
   ],
   "source": [
    "df_clean['AMT_INCOME_TOTAL'].quantile(0.5)"
   ]
  },
  {
   "cell_type": "code",
   "execution_count": 60,
   "id": "9350b5fb",
   "metadata": {},
   "outputs": [
    {
     "data": {
      "text/plain": [
       "NAME_HOUSING_TYPE\n",
       "Co-op apartment          41\n",
       "House / apartment      8494\n",
       "Municipal apartment     335\n",
       "Office apartment         88\n",
       "Rented apartment        138\n",
       "With parents            466\n",
       "Name: NAME_HOUSING_TYPE, dtype: int64"
      ]
     },
     "execution_count": 60,
     "metadata": {},
     "output_type": "execute_result"
    }
   ],
   "source": [
    "df_clean.groupby(\"NAME_HOUSING_TYPE\")[\"NAME_HOUSING_TYPE\"].count()"
   ]
  },
  {
   "cell_type": "code",
   "execution_count": 61,
   "id": "53a27610",
   "metadata": {},
   "outputs": [
    {
     "name": "stderr",
     "output_type": "stream",
     "text": [
      "/var/folders/nx/gz3nx61j43sgg1vjqk1pfrtm0000gn/T/ipykernel_18190/2311823294.py:3: UserWarning: Boolean Series key will be reindexed to match DataFrame index.\n",
      "  round(df_clean[df[\"CODE_GENDER\"] == \"F\"][\"AMT_INCOME_TOTAL\"].apply(lambda x: abs(mean_amt - x) ** 2).mean(), 2)\n"
     ]
    },
    {
     "data": {
      "text/plain": [
       "7125123638.55"
      ]
     },
     "execution_count": 61,
     "metadata": {},
     "output_type": "execute_result"
    }
   ],
   "source": [
    "mean_amt = df_clean[\"AMT_INCOME_TOTAL\"].mean()\n",
    "\n",
    "round(df_clean[df[\"CODE_GENDER\"] == \"F\"][\"AMT_INCOME_TOTAL\"].apply(lambda x: abs(mean_amt - x) ** 2).mean(), 2)"
   ]
  },
  {
   "cell_type": "code",
   "execution_count": 62,
   "id": "ab0def57",
   "metadata": {},
   "outputs": [
    {
     "data": {
      "text/html": [
       "<div>\n",
       "<style scoped>\n",
       "    .dataframe tbody tr th:only-of-type {\n",
       "        vertical-align: middle;\n",
       "    }\n",
       "\n",
       "    .dataframe tbody tr th {\n",
       "        vertical-align: top;\n",
       "    }\n",
       "\n",
       "    .dataframe thead th {\n",
       "        text-align: right;\n",
       "    }\n",
       "</style>\n",
       "<table border=\"1\" class=\"dataframe\">\n",
       "  <thead>\n",
       "    <tr style=\"text-align: right;\">\n",
       "      <th></th>\n",
       "      <th>SK_ID_CURR</th>\n",
       "      <th>NAME_CONTRACT_TYPE</th>\n",
       "      <th>AMT_CREDIT</th>\n",
       "      <th>AMT_ANNUITY</th>\n",
       "      <th>CODE_GENDER</th>\n",
       "      <th>AGE</th>\n",
       "      <th>NAME_FAMILY_STATUS</th>\n",
       "      <th>NAME_HOUSING_TYPE</th>\n",
       "      <th>NAME_INCOME_TYPE</th>\n",
       "      <th>AMT_INCOME_TOTAL</th>\n",
       "      <th>TARGET</th>\n",
       "      <th>AGE_CLEAN</th>\n",
       "      <th>CODE_GENDER_CLEAN</th>\n",
       "      <th>CODE_INCOME</th>\n",
       "      <th>AMT_CREDIT_CLEAN</th>\n",
       "      <th>NAME_INCOME_TYPE_CLEAN</th>\n",
       "      <th>AMT_DURATION</th>\n",
       "      <th>ln_AMT_ANNUITY</th>\n",
       "      <th>AMT_ANNUITY_av_dev</th>\n",
       "    </tr>\n",
       "  </thead>\n",
       "  <tbody>\n",
       "    <tr>\n",
       "      <th>0</th>\n",
       "      <td>230160</td>\n",
       "      <td>Cash loans</td>\n",
       "      <td>162000.0</td>\n",
       "      <td>12928.5</td>\n",
       "      <td>M</td>\n",
       "      <td>54.0</td>\n",
       "      <td>Widow</td>\n",
       "      <td>House / apartment</td>\n",
       "      <td>Working</td>\n",
       "      <td>67500.0</td>\n",
       "      <td>0</td>\n",
       "      <td>54.0</td>\n",
       "      <td>M</td>\n",
       "      <td>low</td>\n",
       "      <td>162000.0</td>\n",
       "      <td>Working</td>\n",
       "      <td>14.172180</td>\n",
       "      <td>9.467189</td>\n",
       "      <td>14277.087691</td>\n",
       "    </tr>\n",
       "    <tr>\n",
       "      <th>1</th>\n",
       "      <td>199156</td>\n",
       "      <td>Cash loans</td>\n",
       "      <td>253737.0</td>\n",
       "      <td>20178.0</td>\n",
       "      <td>F</td>\n",
       "      <td>50.0</td>\n",
       "      <td>Married</td>\n",
       "      <td>Rented apartment</td>\n",
       "      <td>Unemployed</td>\n",
       "      <td>45000.0</td>\n",
       "      <td>0</td>\n",
       "      <td>50.0</td>\n",
       "      <td>F</td>\n",
       "      <td>low</td>\n",
       "      <td>253737.0</td>\n",
       "      <td>Unemployed</td>\n",
       "      <td>14.228891</td>\n",
       "      <td>9.912348</td>\n",
       "      <td>7027.587691</td>\n",
       "    </tr>\n",
       "    <tr>\n",
       "      <th>2</th>\n",
       "      <td>379007</td>\n",
       "      <td>Cash loans</td>\n",
       "      <td>126000.0</td>\n",
       "      <td>8203.5</td>\n",
       "      <td>F</td>\n",
       "      <td>33.0</td>\n",
       "      <td>Married</td>\n",
       "      <td>House / apartment</td>\n",
       "      <td>Unemployed</td>\n",
       "      <td>67500.0</td>\n",
       "      <td>0</td>\n",
       "      <td>33.0</td>\n",
       "      <td>F</td>\n",
       "      <td>low</td>\n",
       "      <td>126000.0</td>\n",
       "      <td>Unemployed</td>\n",
       "      <td>17.889353</td>\n",
       "      <td>9.012316</td>\n",
       "      <td>19002.087691</td>\n",
       "    </tr>\n",
       "    <tr>\n",
       "      <th>3</th>\n",
       "      <td>109133</td>\n",
       "      <td>Cash loans</td>\n",
       "      <td>679500.0</td>\n",
       "      <td>27076.5</td>\n",
       "      <td>F</td>\n",
       "      <td>59.0</td>\n",
       "      <td>Married</td>\n",
       "      <td>House / apartment</td>\n",
       "      <td>Unemployed</td>\n",
       "      <td>121500.0</td>\n",
       "      <td>0</td>\n",
       "      <td>59.0</td>\n",
       "      <td>F</td>\n",
       "      <td>medium</td>\n",
       "      <td>679500.0</td>\n",
       "      <td>Unemployed</td>\n",
       "      <td>32.773955</td>\n",
       "      <td>10.206421</td>\n",
       "      <td>129.087691</td>\n",
       "    </tr>\n",
       "    <tr>\n",
       "      <th>5</th>\n",
       "      <td>248909</td>\n",
       "      <td>Cash loans</td>\n",
       "      <td>1422337.5</td>\n",
       "      <td>39244.5</td>\n",
       "      <td>F</td>\n",
       "      <td>57.0</td>\n",
       "      <td>Married</td>\n",
       "      <td>House / apartment</td>\n",
       "      <td>Working</td>\n",
       "      <td>225000.0</td>\n",
       "      <td>0</td>\n",
       "      <td>57.0</td>\n",
       "      <td>F</td>\n",
       "      <td>high</td>\n",
       "      <td>1422337.5</td>\n",
       "      <td>Working</td>\n",
       "      <td>56.049939</td>\n",
       "      <td>10.577567</td>\n",
       "      <td>12038.912309</td>\n",
       "    </tr>\n",
       "    <tr>\n",
       "      <th>...</th>\n",
       "      <td>...</td>\n",
       "      <td>...</td>\n",
       "      <td>...</td>\n",
       "      <td>...</td>\n",
       "      <td>...</td>\n",
       "      <td>...</td>\n",
       "      <td>...</td>\n",
       "      <td>...</td>\n",
       "      <td>...</td>\n",
       "      <td>...</td>\n",
       "      <td>...</td>\n",
       "      <td>...</td>\n",
       "      <td>...</td>\n",
       "      <td>...</td>\n",
       "      <td>...</td>\n",
       "      <td>...</td>\n",
       "      <td>...</td>\n",
       "      <td>...</td>\n",
       "      <td>...</td>\n",
       "    </tr>\n",
       "    <tr>\n",
       "      <th>9991</th>\n",
       "      <td>425676</td>\n",
       "      <td>Cash loans</td>\n",
       "      <td>352044.0</td>\n",
       "      <td>17122.5</td>\n",
       "      <td>F</td>\n",
       "      <td>38.0</td>\n",
       "      <td>Separated</td>\n",
       "      <td>House / apartment</td>\n",
       "      <td>Businessman</td>\n",
       "      <td>247500.0</td>\n",
       "      <td>0</td>\n",
       "      <td>38.0</td>\n",
       "      <td>F</td>\n",
       "      <td>high</td>\n",
       "      <td>352044.0</td>\n",
       "      <td>Businessman</td>\n",
       "      <td>25.383530</td>\n",
       "      <td>9.748149</td>\n",
       "      <td>10083.087691</td>\n",
       "    </tr>\n",
       "    <tr>\n",
       "      <th>9992</th>\n",
       "      <td>372546</td>\n",
       "      <td>Cash loans</td>\n",
       "      <td>545040.0</td>\n",
       "      <td>19705.5</td>\n",
       "      <td>F</td>\n",
       "      <td>51.0</td>\n",
       "      <td>Separated</td>\n",
       "      <td>House / apartment</td>\n",
       "      <td>Working</td>\n",
       "      <td>121500.0</td>\n",
       "      <td>0</td>\n",
       "      <td>51.0</td>\n",
       "      <td>F</td>\n",
       "      <td>medium</td>\n",
       "      <td>545040.0</td>\n",
       "      <td>Working</td>\n",
       "      <td>37.389210</td>\n",
       "      <td>9.888653</td>\n",
       "      <td>7500.087691</td>\n",
       "    </tr>\n",
       "    <tr>\n",
       "      <th>9993</th>\n",
       "      <td>152089</td>\n",
       "      <td>Cash loans</td>\n",
       "      <td>1006069.5</td>\n",
       "      <td>36265.5</td>\n",
       "      <td>F</td>\n",
       "      <td>26.0</td>\n",
       "      <td>Married</td>\n",
       "      <td>House / apartment</td>\n",
       "      <td>Businessman</td>\n",
       "      <td>270000.0</td>\n",
       "      <td>0</td>\n",
       "      <td>26.0</td>\n",
       "      <td>F</td>\n",
       "      <td>high</td>\n",
       "      <td>1006069.5</td>\n",
       "      <td>Businessman</td>\n",
       "      <td>37.543730</td>\n",
       "      <td>10.498622</td>\n",
       "      <td>9059.912309</td>\n",
       "    </tr>\n",
       "    <tr>\n",
       "      <th>9994</th>\n",
       "      <td>150977</td>\n",
       "      <td>Cash loans</td>\n",
       "      <td>135000.0</td>\n",
       "      <td>14670.0</td>\n",
       "      <td>M</td>\n",
       "      <td>28.0</td>\n",
       "      <td>Married</td>\n",
       "      <td>House / apartment</td>\n",
       "      <td>Businessman</td>\n",
       "      <td>225000.0</td>\n",
       "      <td>0</td>\n",
       "      <td>28.0</td>\n",
       "      <td>M</td>\n",
       "      <td>high</td>\n",
       "      <td>135000.0</td>\n",
       "      <td>Businessman</td>\n",
       "      <td>10.072810</td>\n",
       "      <td>9.593560</td>\n",
       "      <td>12535.587691</td>\n",
       "    </tr>\n",
       "    <tr>\n",
       "      <th>9995</th>\n",
       "      <td>120861</td>\n",
       "      <td>Cash loans</td>\n",
       "      <td>270126.0</td>\n",
       "      <td>14782.5</td>\n",
       "      <td>M</td>\n",
       "      <td>25.0</td>\n",
       "      <td>Single / not married</td>\n",
       "      <td>With parents</td>\n",
       "      <td>Working</td>\n",
       "      <td>112500.0</td>\n",
       "      <td>0</td>\n",
       "      <td>25.0</td>\n",
       "      <td>M</td>\n",
       "      <td>low</td>\n",
       "      <td>270126.0</td>\n",
       "      <td>Working</td>\n",
       "      <td>21.973395</td>\n",
       "      <td>9.601199</td>\n",
       "      <td>12423.087691</td>\n",
       "    </tr>\n",
       "  </tbody>\n",
       "</table>\n",
       "<p>9562 rows × 19 columns</p>\n",
       "</div>"
      ],
      "text/plain": [
       "      SK_ID_CURR NAME_CONTRACT_TYPE  AMT_CREDIT  AMT_ANNUITY CODE_GENDER  \\\n",
       "0         230160         Cash loans    162000.0      12928.5           M   \n",
       "1         199156         Cash loans    253737.0      20178.0           F   \n",
       "2         379007         Cash loans    126000.0       8203.5           F   \n",
       "3         109133         Cash loans    679500.0      27076.5           F   \n",
       "5         248909         Cash loans   1422337.5      39244.5           F   \n",
       "...          ...                ...         ...          ...         ...   \n",
       "9991      425676         Cash loans    352044.0      17122.5           F   \n",
       "9992      372546         Cash loans    545040.0      19705.5           F   \n",
       "9993      152089         Cash loans   1006069.5      36265.5           F   \n",
       "9994      150977         Cash loans    135000.0      14670.0           M   \n",
       "9995      120861         Cash loans    270126.0      14782.5           M   \n",
       "\n",
       "       AGE    NAME_FAMILY_STATUS  NAME_HOUSING_TYPE NAME_INCOME_TYPE  \\\n",
       "0     54.0                 Widow  House / apartment          Working   \n",
       "1     50.0               Married   Rented apartment       Unemployed   \n",
       "2     33.0               Married  House / apartment       Unemployed   \n",
       "3     59.0               Married  House / apartment       Unemployed   \n",
       "5     57.0               Married  House / apartment          Working   \n",
       "...    ...                   ...                ...              ...   \n",
       "9991  38.0             Separated  House / apartment      Businessman   \n",
       "9992  51.0             Separated  House / apartment          Working   \n",
       "9993  26.0               Married  House / apartment      Businessman   \n",
       "9994  28.0               Married  House / apartment      Businessman   \n",
       "9995  25.0  Single / not married       With parents          Working   \n",
       "\n",
       "      AMT_INCOME_TOTAL  TARGET  AGE_CLEAN CODE_GENDER_CLEAN CODE_INCOME  \\\n",
       "0              67500.0       0       54.0                 M         low   \n",
       "1              45000.0       0       50.0                 F         low   \n",
       "2              67500.0       0       33.0                 F         low   \n",
       "3             121500.0       0       59.0                 F      medium   \n",
       "5             225000.0       0       57.0                 F        high   \n",
       "...                ...     ...        ...               ...         ...   \n",
       "9991          247500.0       0       38.0                 F        high   \n",
       "9992          121500.0       0       51.0                 F      medium   \n",
       "9993          270000.0       0       26.0                 F        high   \n",
       "9994          225000.0       0       28.0                 M        high   \n",
       "9995          112500.0       0       25.0                 M         low   \n",
       "\n",
       "      AMT_CREDIT_CLEAN NAME_INCOME_TYPE_CLEAN  AMT_DURATION  ln_AMT_ANNUITY  \\\n",
       "0             162000.0                Working     14.172180        9.467189   \n",
       "1             253737.0             Unemployed     14.228891        9.912348   \n",
       "2             126000.0             Unemployed     17.889353        9.012316   \n",
       "3             679500.0             Unemployed     32.773955       10.206421   \n",
       "5            1422337.5                Working     56.049939       10.577567   \n",
       "...                ...                    ...           ...             ...   \n",
       "9991          352044.0            Businessman     25.383530        9.748149   \n",
       "9992          545040.0                Working     37.389210        9.888653   \n",
       "9993         1006069.5            Businessman     37.543730       10.498622   \n",
       "9994          135000.0            Businessman     10.072810        9.593560   \n",
       "9995          270126.0                Working     21.973395        9.601199   \n",
       "\n",
       "      AMT_ANNUITY_av_dev  \n",
       "0           14277.087691  \n",
       "1            7027.587691  \n",
       "2           19002.087691  \n",
       "3             129.087691  \n",
       "5           12038.912309  \n",
       "...                  ...  \n",
       "9991        10083.087691  \n",
       "9992         7500.087691  \n",
       "9993         9059.912309  \n",
       "9994        12535.587691  \n",
       "9995        12423.087691  \n",
       "\n",
       "[9562 rows x 19 columns]"
      ]
     },
     "execution_count": 62,
     "metadata": {},
     "output_type": "execute_result"
    }
   ],
   "source": [
    "df_clean"
   ]
  },
  {
   "cell_type": "code",
   "execution_count": 63,
   "id": "3706a764",
   "metadata": {},
   "outputs": [
    {
     "data": {
      "text/plain": [
       "18.0"
      ]
     },
     "execution_count": 63,
     "metadata": {},
     "output_type": "execute_result"
    }
   ],
   "source": [
    "noway = df_clean[df_clean[\"NAME_FAMILY_STATUS\"].isin([\"Married\", \"Civil marriage\"])][\"AGE\"]\n",
    "\n",
    "noway.quantile(0.75) - noway.quantile(0.25)"
   ]
  },
  {
   "cell_type": "code",
   "execution_count": 64,
   "id": "c5565d2d",
   "metadata": {},
   "outputs": [
    {
     "data": {
      "text/plain": [
       "'House / apartment'"
      ]
     },
     "execution_count": 64,
     "metadata": {},
     "output_type": "execute_result"
    }
   ],
   "source": [
    "df_clean[\"NAME_HOUSING_TYPE\"].mode()[0]"
   ]
  },
  {
   "cell_type": "code",
   "execution_count": 65,
   "id": "217dd31a",
   "metadata": {},
   "outputs": [
    {
     "data": {
      "text/plain": [
       "135000.0"
      ]
     },
     "execution_count": 65,
     "metadata": {},
     "output_type": "execute_result"
    }
   ],
   "source": [
    "mean_tf = df_clean[\"AMT_CREDIT\"].mean()\n",
    "\n",
    "df_clean[df_clean[\"AMT_CREDIT\"] < mean_tf][\"AMT_INCOME_TOTAL\"].mode()[0]"
   ]
  },
  {
   "cell_type": "code",
   "execution_count": 66,
   "id": "c5c9c9eb",
   "metadata": {},
   "outputs": [
    {
     "data": {
      "text/plain": [
       "NAME_HOUSING_TYPE\n",
       "House / apartment      2223000.0\n",
       "Municipal apartment    1545750.0\n",
       "With parents            680310.0\n",
       "Rented apartment        630000.0\n",
       "Office apartment        495000.0\n",
       "Co-op apartment         472500.0\n",
       "Name: AMT_INCOME_TOTAL, dtype: float64"
      ]
     },
     "execution_count": 66,
     "metadata": {},
     "output_type": "execute_result"
    }
   ],
   "source": [
    "df_clean.groupby(\"NAME_HOUSING_TYPE\")[\"AMT_INCOME_TOTAL\"].agg(lambda x: x.max() - x.min()).sort_values(ascending=False)"
   ]
  },
  {
   "cell_type": "code",
   "execution_count": 67,
   "id": "2c789157",
   "metadata": {},
   "outputs": [
    {
     "data": {
      "text/plain": [
       "NAME_INCOME_TYPE\n",
       "Unemployed     54000.0\n",
       "Working        58500.0\n",
       "Businessman    67500.0\n",
       "Name: AMT_INCOME_TOTAL, dtype: float64"
      ]
     },
     "execution_count": 67,
     "metadata": {},
     "output_type": "execute_result"
    }
   ],
   "source": [
    "def func(x):\n",
    "    return x.quantile(0.75) - x.quantile(0.25)\n",
    "\n",
    "df_clean.groupby(\"NAME_INCOME_TYPE\")[\"AMT_INCOME_TOTAL\"].agg(func).sort_values()"
   ]
  }
 ],
 "metadata": {
  "kernelspec": {
   "display_name": "Python (base)",
   "language": "python",
   "name": "base"
  },
  "language_info": {
   "codemirror_mode": {
    "name": "ipython",
    "version": 3
   },
   "file_extension": ".py",
   "mimetype": "text/x-python",
   "name": "python",
   "nbconvert_exporter": "python",
   "pygments_lexer": "ipython3",
   "version": "3.12.7"
  }
 },
 "nbformat": 4,
 "nbformat_minor": 5
}
