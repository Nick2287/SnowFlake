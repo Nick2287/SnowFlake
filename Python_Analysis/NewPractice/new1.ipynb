{
 "cells": [
  {
   "cell_type": "code",
   "execution_count": 1,
   "id": "a29f61e2",
   "metadata": {},
   "outputs": [],
   "source": [
    "import pandas as pd\n",
    "import matplotlib as plt"
   ]
  },
  {
   "cell_type": "code",
   "execution_count": 2,
   "id": "9c938746",
   "metadata": {},
   "outputs": [],
   "source": [
    "df1 = pd.read_csv(\"/Users/nickolaykrasnenko/Documents/GitHub/SnowFlake/Python_Analysis/NewPractice/products.csv\")\n",
    "df2 = pd.read_csv(\"/Users/nickolaykrasnenko/Documents/GitHub/SnowFlake/Python_Analysis/NewPractice/stores.csv\")\n",
    "df3 = pd.read_csv(\"/Users/nickolaykrasnenko/Documents/GitHub/SnowFlake/Python_Analysis/NewPractice/transaction_1.csv\")\n",
    "df4 = pd.read_csv(\"/Users/nickolaykrasnenko/Documents/GitHub/SnowFlake/Python_Analysis/NewPractice/transaction_2.csv\")\n",
    "df5 = pd.read_csv(\"/Users/nickolaykrasnenko/Documents/GitHub/SnowFlake/Python_Analysis/NewPractice/transaction_items_1.csv\")\n",
    "df6 = pd.read_csv(\"/Users/nickolaykrasnenko/Documents/GitHub/SnowFlake/Python_Analysis/NewPractice/transaction_items_2.csv\")"
   ]
  },
  {
   "cell_type": "code",
   "execution_count": 3,
   "id": "c2cb64f2",
   "metadata": {},
   "outputs": [
    {
     "data": {
      "text/plain": [
       "49116"
      ]
     },
     "execution_count": 3,
     "metadata": {},
     "output_type": "execute_result"
    }
   ],
   "source": [
    "df6.shape[0]"
   ]
  },
  {
   "cell_type": "code",
   "execution_count": 5,
   "id": "f865c7c4",
   "metadata": {},
   "outputs": [
    {
     "data": {
      "text/plain": [
       "8"
      ]
     },
     "execution_count": 5,
     "metadata": {},
     "output_type": "execute_result"
    }
   ],
   "source": [
    "transactions = pd.merge(df3, df4, on=\"transaction_id\", how=\"left\")\n",
    "\n",
    "transactions[\"store_id\"] = transactions[\"store_id\"].astype(\"Int64\")\n",
    "\n",
    "transactions.sort_values(\"transaction_date\", ascending=False).iloc[0][\"store_id\"]"
   ]
  },
  {
   "cell_type": "code",
   "execution_count": null,
   "id": "884f92a6",
   "metadata": {},
   "outputs": [],
   "source": []
  }
 ],
 "metadata": {
  "kernelspec": {
   "display_name": "Python (base)",
   "language": "python",
   "name": "base"
  },
  "language_info": {
   "codemirror_mode": {
    "name": "ipython",
    "version": 3
   },
   "file_extension": ".py",
   "mimetype": "text/x-python",
   "name": "python",
   "nbconvert_exporter": "python",
   "pygments_lexer": "ipython3",
   "version": "3.12.7"
  }
 },
 "nbformat": 4,
 "nbformat_minor": 5
}
