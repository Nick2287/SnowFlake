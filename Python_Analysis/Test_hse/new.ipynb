{
 "cells": [
  {
   "cell_type": "code",
   "execution_count": 73,
   "id": "ff9e53e7",
   "metadata": {},
   "outputs": [],
   "source": [
    "import pandas as pd"
   ]
  },
  {
   "cell_type": "code",
   "execution_count": 75,
   "id": "ee9851bb",
   "metadata": {},
   "outputs": [],
   "source": [
    "df1 = pd.read_csv(\"https://raw.githubusercontent.com/prvshnat/hsedata2425/refs/heads/main/table5.csv\")\n",
    "df2 = pd.read_csv(\"https://raw.githubusercontent.com/prvshnat/hsedata2425/refs/heads/main/table6.csv\")"
   ]
  },
  {
   "cell_type": "code",
   "execution_count": 89,
   "id": "bc199039",
   "metadata": {},
   "outputs": [
    {
     "data": {
      "text/html": [
       "<div>\n",
       "<style scoped>\n",
       "    .dataframe tbody tr th:only-of-type {\n",
       "        vertical-align: middle;\n",
       "    }\n",
       "\n",
       "    .dataframe tbody tr th {\n",
       "        vertical-align: top;\n",
       "    }\n",
       "\n",
       "    .dataframe thead th {\n",
       "        text-align: right;\n",
       "    }\n",
       "</style>\n",
       "<table border=\"1\" class=\"dataframe\">\n",
       "  <thead>\n",
       "    <tr style=\"text-align: right;\">\n",
       "      <th></th>\n",
       "      <th>Date</th>\n",
       "      <th>Open</th>\n",
       "    </tr>\n",
       "  </thead>\n",
       "  <tbody>\n",
       "    <tr>\n",
       "      <th>0</th>\n",
       "      <td>2020-03-26</td>\n",
       "      <td>36.492668</td>\n",
       "    </tr>\n",
       "    <tr>\n",
       "      <th>1</th>\n",
       "      <td>2020-02-20</td>\n",
       "      <td>60.796665</td>\n",
       "    </tr>\n",
       "    <tr>\n",
       "      <th>2</th>\n",
       "      <td>2013-02-08</td>\n",
       "      <td>2.630000</td>\n",
       "    </tr>\n",
       "    <tr>\n",
       "      <th>3</th>\n",
       "      <td>2021-07-12</td>\n",
       "      <td>220.733337</td>\n",
       "    </tr>\n",
       "    <tr>\n",
       "      <th>4</th>\n",
       "      <td>2012-10-16</td>\n",
       "      <td>1.844667</td>\n",
       "    </tr>\n",
       "    <tr>\n",
       "      <th>...</th>\n",
       "      <td>...</td>\n",
       "      <td>...</td>\n",
       "    </tr>\n",
       "    <tr>\n",
       "      <th>1995</th>\n",
       "      <td>2015-01-26</td>\n",
       "      <td>13.455333</td>\n",
       "    </tr>\n",
       "    <tr>\n",
       "      <th>1996</th>\n",
       "      <td>2016-12-13</td>\n",
       "      <td>12.878667</td>\n",
       "    </tr>\n",
       "    <tr>\n",
       "      <th>1997</th>\n",
       "      <td>2017-08-04</td>\n",
       "      <td>23.133333</td>\n",
       "    </tr>\n",
       "    <tr>\n",
       "      <th>1998</th>\n",
       "      <td>2020-10-27</td>\n",
       "      <td>141.253326</td>\n",
       "    </tr>\n",
       "    <tr>\n",
       "      <th>1999</th>\n",
       "      <td>2017-07-20</td>\n",
       "      <td>21.793333</td>\n",
       "    </tr>\n",
       "  </tbody>\n",
       "</table>\n",
       "<p>2000 rows × 2 columns</p>\n",
       "</div>"
      ],
      "text/plain": [
       "            Date        Open\n",
       "0     2020-03-26   36.492668\n",
       "1     2020-02-20   60.796665\n",
       "2     2013-02-08    2.630000\n",
       "3     2021-07-12  220.733337\n",
       "4     2012-10-16    1.844667\n",
       "...          ...         ...\n",
       "1995  2015-01-26   13.455333\n",
       "1996  2016-12-13   12.878667\n",
       "1997  2017-08-04   23.133333\n",
       "1998  2020-10-27  141.253326\n",
       "1999  2017-07-20   21.793333\n",
       "\n",
       "[2000 rows x 2 columns]"
      ]
     },
     "execution_count": 89,
     "metadata": {},
     "output_type": "execute_result"
    }
   ],
   "source": [
    "df2.columns = df1.columns\n",
    "\n",
    "new = pd.concat([df1, df2], ignore_index=True)\n",
    "\n",
    "new"
   ]
  },
  {
   "cell_type": "code",
   "execution_count": 94,
   "id": "686e6322",
   "metadata": {},
   "outputs": [
    {
     "data": {
      "text/plain": [
       "56.09"
      ]
     },
     "execution_count": 94,
     "metadata": {},
     "output_type": "execute_result"
    }
   ],
   "source": [
    "new[\"Month\"] = pd.to_datetime(new[\"Date\"]).dt.month\n",
    "\n",
    "round(new[new[\"Month\"] == 8][\"Open\"].mean(), 2)"
   ]
  },
  {
   "cell_type": "code",
   "execution_count": null,
   "id": "c19a2499",
   "metadata": {},
   "outputs": [
    {
     "data": {
      "text/plain": [
       "410.394001"
      ]
     },
     "execution_count": 114,
     "metadata": {},
     "output_type": "execute_result"
    }
   ],
   "source": [
    "new[\"Dayofweek\"] = pd.to_datetime(new[\"Date\"]).dt.dayofweek\n",
    "\n",
    "\n",
    "\n",
    "par1 = new.groupby(\"Dayofweek\")[\"Open\"].agg(lambda x: x.max() - x.min())\n",
    "\n",
    "par1.max()"
   ]
  },
  {
   "cell_type": "code",
   "execution_count": 119,
   "id": "734b84d4",
   "metadata": {},
   "outputs": [
    {
     "data": {
      "text/plain": [
       "<Axes: xlabel='Dayofweek'>"
      ]
     },
     "execution_count": 119,
     "metadata": {},
     "output_type": "execute_result"
    },
    {
     "data": {
      "image/png": "[encoded data removed]",
      "text/plain": [
       "<Figure size 640x480 with 1 Axes>"
      ]
     },
     "metadata": {},
     "output_type": "display_data"
    }
   ],
   "source": [
    "par1 = new.groupby(\"Dayofweek\")[\"Open\"].min()\n",
    "\n",
    "par1.plot(kind=\"bar\")"
   ]
  }
 ],
 "metadata": {
  "kernelspec": {
   "display_name": "Python (base)",
   "language": "python",
   "name": "base"
  },
  "language_info": {
   "codemirror_mode": {
    "name": "ipython",
    "version": 3
   },
   "file_extension": ".py",
   "mimetype": "text/x-python",
   "name": "python",
   "nbconvert_exporter": "python",
   "pygments_lexer": "ipython3",
   "version": "3.12.7"
  }
 },
 "nbformat": 4,
 "nbformat_minor": 5
}
