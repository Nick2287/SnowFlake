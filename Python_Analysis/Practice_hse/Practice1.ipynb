{
 "cells": [
  {
   "cell_type": "code",
   "execution_count": 281,
   "id": "70a834f7",
   "metadata": {},
   "outputs": [],
   "source": [
    "import pandas as pd\n",
    "\n",
    "df = pd.read_csv(\"/Users/nickolaykrasnenko/Documents/GitHub/SnowFlake/Python_Analysis/Practice_hse/dataset.csv\", sep=\",\")"
   ]
  },
  {
   "cell_type": "code",
   "execution_count": 282,
   "id": "f447c211",
   "metadata": {},
   "outputs": [
    {
     "data": {
      "text/html": [
       "<div>\n",
       "<style scoped>\n",
       "    .dataframe tbody tr th:only-of-type {\n",
       "        vertical-align: middle;\n",
       "    }\n",
       "\n",
       "    .dataframe tbody tr th {\n",
       "        vertical-align: top;\n",
       "    }\n",
       "\n",
       "    .dataframe thead th {\n",
       "        text-align: right;\n",
       "    }\n",
       "</style>\n",
       "<table border=\"1\" class=\"dataframe\">\n",
       "  <thead>\n",
       "    <tr style=\"text-align: right;\">\n",
       "      <th></th>\n",
       "      <th>SessionID</th>\n",
       "      <th>StudentLevel</th>\n",
       "      <th>Discipline</th>\n",
       "      <th>SessionLengthMin</th>\n",
       "      <th>TaskType</th>\n",
       "      <th>AI_AssistanceLevel</th>\n",
       "      <th>FinalOutcome</th>\n",
       "      <th>UsedAgain</th>\n",
       "      <th>SatisfactionRating</th>\n",
       "      <th>Prompts</th>\n",
       "      <th>SessionDateTime</th>\n",
       "    </tr>\n",
       "  </thead>\n",
       "  <tbody>\n",
       "    <tr>\n",
       "      <th>0</th>\n",
       "      <td>SESSION00001</td>\n",
       "      <td>Undergraduate</td>\n",
       "      <td>Computer Science</td>\n",
       "      <td>31.20</td>\n",
       "      <td>Studying</td>\n",
       "      <td>2</td>\n",
       "      <td>Assignment Completed</td>\n",
       "      <td>True</td>\n",
       "      <td>1.0</td>\n",
       "      <td>What topics are covered by Computer Science st...</td>\n",
       "      <td>2024-11-03 07:10:45</td>\n",
       "    </tr>\n",
       "    <tr>\n",
       "      <th>1</th>\n",
       "      <td>SESSION00002</td>\n",
       "      <td>Undergraduate</td>\n",
       "      <td>Psychology</td>\n",
       "      <td>13.09</td>\n",
       "      <td>Studying</td>\n",
       "      <td>3</td>\n",
       "      <td>Assignment Completed</td>\n",
       "      <td>True</td>\n",
       "      <td>2.0</td>\n",
       "      <td>What are cognitive biases?; What psychological...</td>\n",
       "      <td>2024-08-25 08:59:12</td>\n",
       "    </tr>\n",
       "    <tr>\n",
       "      <th>2</th>\n",
       "      <td>SESSION00003</td>\n",
       "      <td>Undergraduate</td>\n",
       "      <td>Business</td>\n",
       "      <td>19.22</td>\n",
       "      <td>Coding</td>\n",
       "      <td>3</td>\n",
       "      <td>Assignment Completed</td>\n",
       "      <td>True</td>\n",
       "      <td>3.3</td>\n",
       "      <td>What expert predictions see cryptocurrency dev...</td>\n",
       "      <td>2025-01-12 00:02:38</td>\n",
       "    </tr>\n",
       "    <tr>\n",
       "      <th>3</th>\n",
       "      <td>SESSION00004</td>\n",
       "      <td>Undergraduate</td>\n",
       "      <td>Computer Science</td>\n",
       "      <td>3.70</td>\n",
       "      <td>Coding</td>\n",
       "      <td>3</td>\n",
       "      <td>Assignment Completed</td>\n",
       "      <td>True</td>\n",
       "      <td>3.5</td>\n",
       "      <td>Explain the basics of programming in Python.</td>\n",
       "      <td>2025-05-06 00:06:13</td>\n",
       "    </tr>\n",
       "    <tr>\n",
       "      <th>4</th>\n",
       "      <td>SESSION00005</td>\n",
       "      <td>Undergraduate</td>\n",
       "      <td>Psychology</td>\n",
       "      <td>28.12</td>\n",
       "      <td>Writing</td>\n",
       "      <td>3</td>\n",
       "      <td>Assignment Completed</td>\n",
       "      <td>True</td>\n",
       "      <td>2.9</td>\n",
       "      <td>What beliefs influence our perception of the w...</td>\n",
       "      <td>2025-03-18 14:28:07</td>\n",
       "    </tr>\n",
       "  </tbody>\n",
       "</table>\n",
       "</div>"
      ],
      "text/plain": [
       "      SessionID   StudentLevel        Discipline  SessionLengthMin  TaskType  \\\n",
       "0  SESSION00001  Undergraduate  Computer Science             31.20  Studying   \n",
       "1  SESSION00002  Undergraduate        Psychology             13.09  Studying   \n",
       "2  SESSION00003  Undergraduate          Business             19.22    Coding   \n",
       "3  SESSION00004  Undergraduate  Computer Science              3.70    Coding   \n",
       "4  SESSION00005  Undergraduate        Psychology             28.12   Writing   \n",
       "\n",
       "   AI_AssistanceLevel          FinalOutcome  UsedAgain  SatisfactionRating  \\\n",
       "0                   2  Assignment Completed       True                 1.0   \n",
       "1                   3  Assignment Completed       True                 2.0   \n",
       "2                   3  Assignment Completed       True                 3.3   \n",
       "3                   3  Assignment Completed       True                 3.5   \n",
       "4                   3  Assignment Completed       True                 2.9   \n",
       "\n",
       "                                             Prompts      SessionDateTime  \n",
       "0  What topics are covered by Computer Science st...  2024-11-03 07:10:45  \n",
       "1  What are cognitive biases?; What psychological...  2024-08-25 08:59:12  \n",
       "2  What expert predictions see cryptocurrency dev...  2025-01-12 00:02:38  \n",
       "3       Explain the basics of programming in Python.  2025-05-06 00:06:13  \n",
       "4  What beliefs influence our perception of the w...  2025-03-18 14:28:07  "
      ]
     },
     "execution_count": 282,
     "metadata": {},
     "output_type": "execute_result"
    }
   ],
   "source": [
    "df.head(5)"
   ]
  },
  {
   "cell_type": "code",
   "execution_count": 283,
   "id": "163b3946",
   "metadata": {},
   "outputs": [
    {
     "name": "stdout",
     "output_type": "stream",
     "text": [
      "<class 'pandas.core.frame.DataFrame'>\n",
      "RangeIndex: 10000 entries, 0 to 9999\n",
      "Data columns (total 11 columns):\n",
      " #   Column              Non-Null Count  Dtype  \n",
      "---  ------              --------------  -----  \n",
      " 0   SessionID           10000 non-null  object \n",
      " 1   StudentLevel        10000 non-null  object \n",
      " 2   Discipline          10000 non-null  object \n",
      " 3   SessionLengthMin    10000 non-null  float64\n",
      " 4   TaskType            10000 non-null  object \n",
      " 5   AI_AssistanceLevel  10000 non-null  int64  \n",
      " 6   FinalOutcome        10000 non-null  object \n",
      " 7   UsedAgain           10000 non-null  bool   \n",
      " 8   SatisfactionRating  10000 non-null  float64\n",
      " 9   Prompts             10000 non-null  object \n",
      " 10  SessionDateTime     10000 non-null  object \n",
      "dtypes: bool(1), float64(2), int64(1), object(7)\n",
      "memory usage: 791.1+ KB\n"
     ]
    }
   ],
   "source": [
    "df.info()"
   ]
  },
  {
   "cell_type": "code",
   "execution_count": 284,
   "id": "a719fb7a",
   "metadata": {},
   "outputs": [
    {
     "data": {
      "text/plain": [
       "SessionID                                                  SESSION05897\n",
       "StudentLevel                                              Undergraduate\n",
       "Discipline                                                      Biology\n",
       "SessionLengthMin                                                 110.81\n",
       "TaskType                                                        Writing\n",
       "AI_AssistanceLevel                                                    3\n",
       "FinalOutcome                                                   Confused\n",
       "UsedAgain                                                          True\n",
       "SatisfactionRating                                                  3.9\n",
       "Prompts               What cells are called eukaryotic?; What experi...\n",
       "SessionDateTime                                     2025-03-28 16:36:17\n",
       "Name: 5896, dtype: object"
      ]
     },
     "execution_count": 284,
     "metadata": {},
     "output_type": "execute_result"
    }
   ],
   "source": [
    "df.sort_values(\"SessionLengthMin\", ascending=False).iloc[0]"
   ]
  },
  {
   "cell_type": "code",
   "execution_count": 285,
   "id": "ac8bd2ed",
   "metadata": {},
   "outputs": [
    {
     "data": {
      "text/plain": [
       "SessionID                                            SESSION09463\n",
       "StudentLevel                                        Undergraduate\n",
       "Discipline                                               Business\n",
       "SessionLengthMin                                             0.89\n",
       "TaskType                                                  Writing\n",
       "AI_AssistanceLevel                                              1\n",
       "FinalOutcome                                 Assignment Completed\n",
       "UsedAgain                                                    True\n",
       "SatisfactionRating                                            1.2\n",
       "Prompts               What risks accompany business digitization?\n",
       "SessionDateTime                               2025-04-11 22:30:54\n",
       "Name: 9462, dtype: object"
      ]
     },
     "execution_count": 285,
     "metadata": {},
     "output_type": "execute_result"
    }
   ],
   "source": [
    "df.sort_values([\"AI_AssistanceLevel\", \"SessionLengthMin\"]).iloc[0]"
   ]
  },
  {
   "cell_type": "code",
   "execution_count": 286,
   "id": "fcf4b70a",
   "metadata": {},
   "outputs": [
    {
     "data": {
      "text/plain": [
       "SessionID                                                  SESSION05025\n",
       "StudentLevel                                              Undergraduate\n",
       "Discipline                                                         Math\n",
       "SessionLengthMin                                                  15.28\n",
       "TaskType                                                        Writing\n",
       "AI_AssistanceLevel                                                    5\n",
       "FinalOutcome                                       Assignment Completed\n",
       "UsedAgain                                                          True\n",
       "SatisfactionRating                                                  2.1\n",
       "Prompts               What quadratic equation formulas exist?; What ...\n",
       "SessionDateTime                                     2024-10-10 14:09:52\n",
       "Name: 5024, dtype: object"
      ]
     },
     "execution_count": 286,
     "metadata": {},
     "output_type": "execute_result"
    }
   ],
   "source": [
    "df.sort_values([\"AI_AssistanceLevel\", \"SatisfactionRating\"], ascending=[False, True]).iloc[0]"
   ]
  },
  {
   "cell_type": "code",
   "execution_count": 287,
   "id": "a7cdefc2",
   "metadata": {},
   "outputs": [
    {
     "data": {
      "text/plain": [
       "(1959, 11)"
      ]
     },
     "execution_count": 287,
     "metadata": {},
     "output_type": "execute_result"
    }
   ],
   "source": [
    "df[df[\"TaskType\"] == \"Homework Help\"].shape"
   ]
  },
  {
   "cell_type": "code",
   "execution_count": 288,
   "id": "c657ebda",
   "metadata": {},
   "outputs": [
    {
     "data": {
      "text/plain": [
       "1957"
      ]
     },
     "execution_count": 288,
     "metadata": {},
     "output_type": "execute_result"
    }
   ],
   "source": [
    "df[df[\"SessionLengthMin\"] >= 30].shape[0]"
   ]
  },
  {
   "cell_type": "code",
   "execution_count": 289,
   "id": "336bad53",
   "metadata": {},
   "outputs": [
    {
     "data": {
      "text/plain": [
       "7064"
      ]
     },
     "execution_count": 289,
     "metadata": {},
     "output_type": "execute_result"
    }
   ],
   "source": [
    "df[df[\"UsedAgain\"] == True].shape[0]"
   ]
  },
  {
   "cell_type": "code",
   "execution_count": 290,
   "id": "019754fe",
   "metadata": {},
   "outputs": [
    {
     "data": {
      "text/plain": [
       "SessionID                                                  SESSION00350\n",
       "StudentLevel                                              Undergraduate\n",
       "Discipline                                                     Business\n",
       "SessionLengthMin                                                   0.03\n",
       "TaskType                                                  Homework Help\n",
       "AI_AssistanceLevel                                                    5\n",
       "FinalOutcome                                               Idea Drafted\n",
       "UsedAgain                                                          True\n",
       "SatisfactionRating                                                  5.0\n",
       "Prompts               What strategies apply for entering foreign mar...\n",
       "SessionDateTime                                     2024-10-28 09:03:34\n",
       "TotalPrompts                                                          1\n",
       "Name: 349, dtype: object"
      ]
     },
     "execution_count": 290,
     "metadata": {},
     "output_type": "execute_result"
    }
   ],
   "source": [
    "df[\"TotalPrompts\"] = df[\"Prompts\"].apply(lambda x: str(x).count(\"; \") + 1)\n",
    "\n",
    "df.sort_values([\"TotalPrompts\", \"SessionLengthMin\"]).iloc[0]"
   ]
  },
  {
   "cell_type": "code",
   "execution_count": 291,
   "id": "e213c9ee",
   "metadata": {},
   "outputs": [
    {
     "data": {
      "text/plain": [
       "3"
      ]
     },
     "execution_count": 291,
     "metadata": {},
     "output_type": "execute_result"
    }
   ],
   "source": [
    "df[\"FreqPrompts\"] = df[\"TotalPrompts\"] / df[\"SessionLengthMin\"]\n",
    "\n",
    "df.sort_values(\"FreqPrompts\")[\"AI_AssistanceLevel\"].iloc[0]"
   ]
  },
  {
   "cell_type": "code",
   "execution_count": 292,
   "id": "3df837f9",
   "metadata": {},
   "outputs": [
    {
     "data": {
      "text/plain": [
       "3.0"
      ]
     },
     "execution_count": 292,
     "metadata": {},
     "output_type": "execute_result"
    }
   ],
   "source": [
    "df[\"LenPrompts\"] = df[\"Prompts\"].apply(lambda x: len(x) - x.count(\"; \"))\n",
    "\n",
    "\n",
    "df.sort_values(\"LenPrompts\")[\"SessionLengthMin\"].iloc[0].round()"
   ]
  },
  {
   "cell_type": "code",
   "execution_count": 293,
   "id": "6cd55b33",
   "metadata": {},
   "outputs": [
    {
     "data": {
      "text/plain": [
       "1655"
      ]
     },
     "execution_count": 293,
     "metadata": {},
     "output_type": "execute_result"
    }
   ],
   "source": [
    "df[\"WordCheck\"] = df[\"Prompts\"].apply(lambda x: 1 if \"math\" in str(x).lower() or \"method\" in str(x).lower() else 0).astype(int)\n",
    "\n",
    "df[\"WordCheck\"].sum()"
   ]
  },
  {
   "cell_type": "code",
   "execution_count": 294,
   "id": "a521411b",
   "metadata": {},
   "outputs": [],
   "source": [
    "# one-hot кодирование создает столько столбцов, сколько значений в признаке (каждый столбец бинарный)\n",
    "# label-encoding просто кодировнаие числовыми значенями"
   ]
  },
  {
   "cell_type": "code",
   "execution_count": 295,
   "id": "6d6f0f2d",
   "metadata": {},
   "outputs": [
    {
     "data": {
      "text/plain": [
       "22"
      ]
     },
     "execution_count": 295,
     "metadata": {},
     "output_type": "execute_result"
    }
   ],
   "source": [
    "df['SessionDateTime'] = pd.to_datetime(df['SessionDateTime'])\n",
    "df['SessionDateTime'].loc[999].hour\n"
   ]
  },
  {
   "cell_type": "code",
   "execution_count": 296,
   "id": "2ac6f416",
   "metadata": {},
   "outputs": [
    {
     "data": {
      "text/plain": [
       "datetime.date(2024, 12, 19)"
      ]
     },
     "execution_count": 296,
     "metadata": {},
     "output_type": "execute_result"
    }
   ],
   "source": [
    "df['SessionDateTime'].loc[999].date()"
   ]
  },
  {
   "cell_type": "code",
   "execution_count": 300,
   "id": "b494cc7e",
   "metadata": {},
   "outputs": [
    {
     "data": {
      "text/plain": [
       "'What materials are suitable for bridge construction?'"
      ]
     },
     "execution_count": 300,
     "metadata": {},
     "output_type": "execute_result"
    }
   ],
   "source": [
    "def func(new):\n",
    "    \n",
    "    if 5 <= new < 12:\n",
    "        return \"morning\"\n",
    "    elif 12 <= new < 17:\n",
    "        return \"afternoon\"\n",
    "    elif 17 <= new < 22:\n",
    "        return \"evening\"\n",
    "    \n",
    "    return \"night\"\n",
    "\n",
    "df[\"TimeOfDaySession\"] = df['SessionDateTime'].dt.hour.apply(func)\n",
    "\n",
    "df[(df[\"TimeOfDaySession\"] == \"afternoon\") | (df[\"TimeOfDaySession\"] == \"night\")].sort_values(\"FreqPrompts\").iloc[0][\"Prompts\"]\n",
    "# df[df[\"TimeOfDaySession\"].isin([\"afternoon\", \"night]\"])].sort_values(\"FreqPrompts\").iloc[0][\"Prompts\"]"
   ]
  },
  {
   "cell_type": "code",
   "execution_count": 318,
   "id": "818351a0",
   "metadata": {},
   "outputs": [
    {
     "data": {
      "text/plain": [
       "4842"
      ]
     },
     "execution_count": 318,
     "metadata": {},
     "output_type": "execute_result"
    }
   ],
   "source": [
    "df[\"SessionYear\"] = df['SessionDateTime'].dt.year\n",
    "\n",
    "(df[\"SessionYear\"] == 2025).sum()"
   ]
  },
  {
   "cell_type": "code",
   "execution_count": 330,
   "id": "95b1df84",
   "metadata": {},
   "outputs": [
    {
     "data": {
      "text/plain": [
       "16"
      ]
     },
     "execution_count": 330,
     "metadata": {},
     "output_type": "execute_result"
    }
   ],
   "source": [
    "df[\"SessionDate\"] = df['SessionDateTime'].dt.date\n",
    "\n",
    "df[df['SessionDate'] == pd.to_datetime('2024-12-30').date()][\"SessionDate\"].shape[0]\n",
    "\n",
    "# df[df[\"SessionDate\"] == \"2024-12-30\"][\"SessionDate\"].shape[0]"
   ]
  },
  {
   "cell_type": "code",
   "execution_count": 334,
   "id": "121e5769",
   "metadata": {},
   "outputs": [
    {
     "data": {
      "text/plain": [
       "382"
      ]
     },
     "execution_count": 334,
     "metadata": {},
     "output_type": "execute_result"
    }
   ],
   "source": [
    "df[(df[\"StudentLevel\"] == \"Graduate\") & (df[\"TaskType\"] == \"Studying\")].shape[0]"
   ]
  },
  {
   "cell_type": "code",
   "execution_count": 342,
   "id": "c1abb611",
   "metadata": {},
   "outputs": [
    {
     "data": {
      "text/plain": [
       "5590"
      ]
     },
     "execution_count": 342,
     "metadata": {},
     "output_type": "execute_result"
    }
   ],
   "source": [
    "df[(df[\"FinalOutcome\"] == \"Assignment Completed\") | (df[\"AI_AssistanceLevel\"] == 5)].shape[0]"
   ]
  },
  {
   "cell_type": "code",
   "execution_count": 349,
   "id": "6926bed0",
   "metadata": {},
   "outputs": [
    {
     "data": {
      "text/plain": [
       "0.284"
      ]
     },
     "execution_count": 349,
     "metadata": {},
     "output_type": "execute_result"
    }
   ],
   "source": [
    "df[df[\"Discipline\"].isin([\"Business\", \"Engineering\"])].shape[0] / df.shape[0]"
   ]
  },
  {
   "cell_type": "code",
   "execution_count": 360,
   "id": "dcc85998",
   "metadata": {},
   "outputs": [
    {
     "data": {
      "text/plain": [
       "54.04"
      ]
     },
     "execution_count": 360,
     "metadata": {},
     "output_type": "execute_result"
    }
   ],
   "source": [
    "df[df[\"SessionLengthMin\"].between(10, 30, inclusive=\"left\")].shape[0] / df.shape[0] * 100"
   ]
  },
  {
   "cell_type": "code",
   "execution_count": 361,
   "id": "63778847",
   "metadata": {},
   "outputs": [
    {
     "data": {
      "text/plain": [
       "1965"
      ]
     },
     "execution_count": 361,
     "metadata": {},
     "output_type": "execute_result"
    }
   ],
   "source": [
    "df[(df[\"SessionYear\"] == 2024) & (df[\"SessionDateTime\"].dt.month.between(6, 8))].shape[0]"
   ]
  },
  {
   "cell_type": "code",
   "execution_count": 364,
   "id": "c8d1ca1d",
   "metadata": {},
   "outputs": [
    {
     "data": {
      "text/html": [
       "<div>\n",
       "<style scoped>\n",
       "    .dataframe tbody tr th:only-of-type {\n",
       "        vertical-align: middle;\n",
       "    }\n",
       "\n",
       "    .dataframe tbody tr th {\n",
       "        vertical-align: top;\n",
       "    }\n",
       "\n",
       "    .dataframe thead th {\n",
       "        text-align: right;\n",
       "    }\n",
       "</style>\n",
       "<table border=\"1\" class=\"dataframe\">\n",
       "  <thead>\n",
       "    <tr style=\"text-align: right;\">\n",
       "      <th></th>\n",
       "      <th>SessionID</th>\n",
       "      <th>StudentLevel</th>\n",
       "      <th>Discipline</th>\n",
       "      <th>SessionLengthMin</th>\n",
       "      <th>TaskType</th>\n",
       "      <th>AI_AssistanceLevel</th>\n",
       "      <th>FinalOutcome</th>\n",
       "      <th>UsedAgain</th>\n",
       "      <th>SatisfactionRating</th>\n",
       "      <th>Prompts</th>\n",
       "      <th>SessionDateTime</th>\n",
       "      <th>TotalPrompts</th>\n",
       "      <th>FreqPrompts</th>\n",
       "      <th>LenPrompts</th>\n",
       "      <th>WordCheck</th>\n",
       "      <th>TimeOfDaySession</th>\n",
       "      <th>SessionYear</th>\n",
       "      <th>SessionDate</th>\n",
       "    </tr>\n",
       "  </thead>\n",
       "  <tbody>\n",
       "    <tr>\n",
       "      <th>3237</th>\n",
       "      <td>SESSION03238</td>\n",
       "      <td>High School</td>\n",
       "      <td>Computer Science</td>\n",
       "      <td>91.20</td>\n",
       "      <td>Writing</td>\n",
       "      <td>5</td>\n",
       "      <td>Idea Drafted</td>\n",
       "      <td>True</td>\n",
       "      <td>5.0</td>\n",
       "      <td>Can you build a website without knowing HTML/C...</td>\n",
       "      <td>2024-07-17 19:32:10</td>\n",
       "      <td>39</td>\n",
       "      <td>0.427632</td>\n",
       "      <td>1823</td>\n",
       "      <td>1</td>\n",
       "      <td>evening</td>\n",
       "      <td>2024</td>\n",
       "      <td>2024-07-17</td>\n",
       "    </tr>\n",
       "    <tr>\n",
       "      <th>5000</th>\n",
       "      <td>SESSION05001</td>\n",
       "      <td>Undergraduate</td>\n",
       "      <td>Computer Science</td>\n",
       "      <td>98.96</td>\n",
       "      <td>Writing</td>\n",
       "      <td>4</td>\n",
       "      <td>Idea Drafted</td>\n",
       "      <td>True</td>\n",
       "      <td>3.7</td>\n",
       "      <td>Must UI designers know how to draw interfaces?...</td>\n",
       "      <td>2024-11-03 13:02:09</td>\n",
       "      <td>38</td>\n",
       "      <td>0.383994</td>\n",
       "      <td>1802</td>\n",
       "      <td>1</td>\n",
       "      <td>afternoon</td>\n",
       "      <td>2024</td>\n",
       "      <td>2024-11-03</td>\n",
       "    </tr>\n",
       "    <tr>\n",
       "      <th>9628</th>\n",
       "      <td>SESSION09629</td>\n",
       "      <td>Undergraduate</td>\n",
       "      <td>Computer Science</td>\n",
       "      <td>68.47</td>\n",
       "      <td>Homework Help</td>\n",
       "      <td>3</td>\n",
       "      <td>Idea Drafted</td>\n",
       "      <td>False</td>\n",
       "      <td>2.6</td>\n",
       "      <td>What resources would you recommend for learnin...</td>\n",
       "      <td>2024-12-17 13:13:02</td>\n",
       "      <td>34</td>\n",
       "      <td>0.496568</td>\n",
       "      <td>1615</td>\n",
       "      <td>1</td>\n",
       "      <td>afternoon</td>\n",
       "      <td>2024</td>\n",
       "      <td>2024-12-17</td>\n",
       "    </tr>\n",
       "    <tr>\n",
       "      <th>213</th>\n",
       "      <td>SESSION00214</td>\n",
       "      <td>Undergraduate</td>\n",
       "      <td>Computer Science</td>\n",
       "      <td>84.15</td>\n",
       "      <td>Homework Help</td>\n",
       "      <td>5</td>\n",
       "      <td>Confused</td>\n",
       "      <td>False</td>\n",
       "      <td>5.0</td>\n",
       "      <td>How do NoSQL databases work?; How do deep lear...</td>\n",
       "      <td>2024-11-11 03:42:30</td>\n",
       "      <td>31</td>\n",
       "      <td>0.368390</td>\n",
       "      <td>1466</td>\n",
       "      <td>1</td>\n",
       "      <td>night</td>\n",
       "      <td>2024</td>\n",
       "      <td>2024-11-11</td>\n",
       "    </tr>\n",
       "    <tr>\n",
       "      <th>6795</th>\n",
       "      <td>SESSION06796</td>\n",
       "      <td>Undergraduate</td>\n",
       "      <td>Computer Science</td>\n",
       "      <td>59.41</td>\n",
       "      <td>Homework Help</td>\n",
       "      <td>4</td>\n",
       "      <td>Assignment Completed</td>\n",
       "      <td>True</td>\n",
       "      <td>4.2</td>\n",
       "      <td>What opportunities does cloud storage provide?...</td>\n",
       "      <td>2024-11-28 14:52:20</td>\n",
       "      <td>28</td>\n",
       "      <td>0.471301</td>\n",
       "      <td>1348</td>\n",
       "      <td>1</td>\n",
       "      <td>afternoon</td>\n",
       "      <td>2024</td>\n",
       "      <td>2024-11-28</td>\n",
       "    </tr>\n",
       "    <tr>\n",
       "      <th>...</th>\n",
       "      <td>...</td>\n",
       "      <td>...</td>\n",
       "      <td>...</td>\n",
       "      <td>...</td>\n",
       "      <td>...</td>\n",
       "      <td>...</td>\n",
       "      <td>...</td>\n",
       "      <td>...</td>\n",
       "      <td>...</td>\n",
       "      <td>...</td>\n",
       "      <td>...</td>\n",
       "      <td>...</td>\n",
       "      <td>...</td>\n",
       "      <td>...</td>\n",
       "      <td>...</td>\n",
       "      <td>...</td>\n",
       "      <td>...</td>\n",
       "      <td>...</td>\n",
       "    </tr>\n",
       "    <tr>\n",
       "      <th>7081</th>\n",
       "      <td>SESSION07082</td>\n",
       "      <td>High School</td>\n",
       "      <td>Computer Science</td>\n",
       "      <td>4.49</td>\n",
       "      <td>Coding</td>\n",
       "      <td>5</td>\n",
       "      <td>Confused</td>\n",
       "      <td>True</td>\n",
       "      <td>5.0</td>\n",
       "      <td>Is QA engineering a promising profession?</td>\n",
       "      <td>2025-04-19 21:35:05</td>\n",
       "      <td>1</td>\n",
       "      <td>0.222717</td>\n",
       "      <td>41</td>\n",
       "      <td>0</td>\n",
       "      <td>evening</td>\n",
       "      <td>2025</td>\n",
       "      <td>2025-04-19</td>\n",
       "    </tr>\n",
       "    <tr>\n",
       "      <th>5794</th>\n",
       "      <td>SESSION05795</td>\n",
       "      <td>High School</td>\n",
       "      <td>Computer Science</td>\n",
       "      <td>1.09</td>\n",
       "      <td>Studying</td>\n",
       "      <td>5</td>\n",
       "      <td>Assignment Completed</td>\n",
       "      <td>True</td>\n",
       "      <td>5.0</td>\n",
       "      <td>Why are tests important in software development?</td>\n",
       "      <td>2024-08-16 16:06:45</td>\n",
       "      <td>1</td>\n",
       "      <td>0.917431</td>\n",
       "      <td>48</td>\n",
       "      <td>0</td>\n",
       "      <td>afternoon</td>\n",
       "      <td>2024</td>\n",
       "      <td>2024-08-16</td>\n",
       "    </tr>\n",
       "    <tr>\n",
       "      <th>3537</th>\n",
       "      <td>SESSION03538</td>\n",
       "      <td>Undergraduate</td>\n",
       "      <td>Computer Science</td>\n",
       "      <td>1.19</td>\n",
       "      <td>Coding</td>\n",
       "      <td>3</td>\n",
       "      <td>Assignment Completed</td>\n",
       "      <td>True</td>\n",
       "      <td>1.8</td>\n",
       "      <td>Why are tests important in software development?</td>\n",
       "      <td>2025-04-24 04:48:43</td>\n",
       "      <td>1</td>\n",
       "      <td>0.840336</td>\n",
       "      <td>48</td>\n",
       "      <td>0</td>\n",
       "      <td>night</td>\n",
       "      <td>2025</td>\n",
       "      <td>2025-04-24</td>\n",
       "    </tr>\n",
       "    <tr>\n",
       "      <th>3543</th>\n",
       "      <td>SESSION03544</td>\n",
       "      <td>Undergraduate</td>\n",
       "      <td>Computer Science</td>\n",
       "      <td>3.81</td>\n",
       "      <td>Homework Help</td>\n",
       "      <td>1</td>\n",
       "      <td>Assignment Completed</td>\n",
       "      <td>True</td>\n",
       "      <td>1.2</td>\n",
       "      <td>What makes microservices architecture unique?</td>\n",
       "      <td>2025-03-02 11:08:50</td>\n",
       "      <td>1</td>\n",
       "      <td>0.262467</td>\n",
       "      <td>45</td>\n",
       "      <td>0</td>\n",
       "      <td>morning</td>\n",
       "      <td>2025</td>\n",
       "      <td>2025-03-02</td>\n",
       "    </tr>\n",
       "    <tr>\n",
       "      <th>4315</th>\n",
       "      <td>SESSION04316</td>\n",
       "      <td>Undergraduate</td>\n",
       "      <td>Computer Science</td>\n",
       "      <td>4.45</td>\n",
       "      <td>Writing</td>\n",
       "      <td>3</td>\n",
       "      <td>Assignment Completed</td>\n",
       "      <td>True</td>\n",
       "      <td>3.1</td>\n",
       "      <td>What skills are essential for future data spec...</td>\n",
       "      <td>2024-09-11 02:49:10</td>\n",
       "      <td>1</td>\n",
       "      <td>0.224719</td>\n",
       "      <td>54</td>\n",
       "      <td>0</td>\n",
       "      <td>night</td>\n",
       "      <td>2024</td>\n",
       "      <td>2024-09-11</td>\n",
       "    </tr>\n",
       "  </tbody>\n",
       "</table>\n",
       "<p>1445 rows × 18 columns</p>\n",
       "</div>"
      ],
      "text/plain": [
       "         SessionID   StudentLevel        Discipline  SessionLengthMin  \\\n",
       "3237  SESSION03238    High School  Computer Science             91.20   \n",
       "5000  SESSION05001  Undergraduate  Computer Science             98.96   \n",
       "9628  SESSION09629  Undergraduate  Computer Science             68.47   \n",
       "213   SESSION00214  Undergraduate  Computer Science             84.15   \n",
       "6795  SESSION06796  Undergraduate  Computer Science             59.41   \n",
       "...            ...            ...               ...               ...   \n",
       "7081  SESSION07082    High School  Computer Science              4.49   \n",
       "5794  SESSION05795    High School  Computer Science              1.09   \n",
       "3537  SESSION03538  Undergraduate  Computer Science              1.19   \n",
       "3543  SESSION03544  Undergraduate  Computer Science              3.81   \n",
       "4315  SESSION04316  Undergraduate  Computer Science              4.45   \n",
       "\n",
       "           TaskType  AI_AssistanceLevel          FinalOutcome  UsedAgain  \\\n",
       "3237        Writing                   5          Idea Drafted       True   \n",
       "5000        Writing                   4          Idea Drafted       True   \n",
       "9628  Homework Help                   3          Idea Drafted      False   \n",
       "213   Homework Help                   5              Confused      False   \n",
       "6795  Homework Help                   4  Assignment Completed       True   \n",
       "...             ...                 ...                   ...        ...   \n",
       "7081         Coding                   5              Confused       True   \n",
       "5794       Studying                   5  Assignment Completed       True   \n",
       "3537         Coding                   3  Assignment Completed       True   \n",
       "3543  Homework Help                   1  Assignment Completed       True   \n",
       "4315        Writing                   3  Assignment Completed       True   \n",
       "\n",
       "      SatisfactionRating                                            Prompts  \\\n",
       "3237                 5.0  Can you build a website without knowing HTML/C...   \n",
       "5000                 3.7  Must UI designers know how to draw interfaces?...   \n",
       "9628                 2.6  What resources would you recommend for learnin...   \n",
       "213                  5.0  How do NoSQL databases work?; How do deep lear...   \n",
       "6795                 4.2  What opportunities does cloud storage provide?...   \n",
       "...                  ...                                                ...   \n",
       "7081                 5.0          Is QA engineering a promising profession?   \n",
       "5794                 5.0   Why are tests important in software development?   \n",
       "3537                 1.8   Why are tests important in software development?   \n",
       "3543                 1.2      What makes microservices architecture unique?   \n",
       "4315                 3.1  What skills are essential for future data spec...   \n",
       "\n",
       "         SessionDateTime  TotalPrompts  FreqPrompts  LenPrompts  WordCheck  \\\n",
       "3237 2024-07-17 19:32:10            39     0.427632        1823          1   \n",
       "5000 2024-11-03 13:02:09            38     0.383994        1802          1   \n",
       "9628 2024-12-17 13:13:02            34     0.496568        1615          1   \n",
       "213  2024-11-11 03:42:30            31     0.368390        1466          1   \n",
       "6795 2024-11-28 14:52:20            28     0.471301        1348          1   \n",
       "...                  ...           ...          ...         ...        ...   \n",
       "7081 2025-04-19 21:35:05             1     0.222717          41          0   \n",
       "5794 2024-08-16 16:06:45             1     0.917431          48          0   \n",
       "3537 2025-04-24 04:48:43             1     0.840336          48          0   \n",
       "3543 2025-03-02 11:08:50             1     0.262467          45          0   \n",
       "4315 2024-09-11 02:49:10             1     0.224719          54          0   \n",
       "\n",
       "     TimeOfDaySession  SessionYear SessionDate  \n",
       "3237          evening         2024  2024-07-17  \n",
       "5000        afternoon         2024  2024-11-03  \n",
       "9628        afternoon         2024  2024-12-17  \n",
       "213             night         2024  2024-11-11  \n",
       "6795        afternoon         2024  2024-11-28  \n",
       "...               ...          ...         ...  \n",
       "7081          evening         2025  2025-04-19  \n",
       "5794        afternoon         2024  2024-08-16  \n",
       "3537            night         2025  2025-04-24  \n",
       "3543          morning         2025  2025-03-02  \n",
       "4315            night         2024  2024-09-11  \n",
       "\n",
       "[1445 rows x 18 columns]"
      ]
     },
     "execution_count": 364,
     "metadata": {},
     "output_type": "execute_result"
    }
   ],
   "source": [
    "df[(df[\"Discipline\"] == \"Computer Science\")].sort_values(\"TotalPrompts\", ascending=False)"
   ]
  },
  {
   "cell_type": "code",
   "execution_count": null,
   "id": "cd214f14",
   "metadata": {},
   "outputs": [],
   "source": []
  }
 ],
 "metadata": {
  "kernelspec": {
   "display_name": "Python (base)",
   "language": "python",
   "name": "base"
  },
  "language_info": {
   "codemirror_mode": {
    "name": "ipython",
    "version": 3
   },
   "file_extension": ".py",
   "mimetype": "text/x-python",
   "name": "python",
   "nbconvert_exporter": "python",
   "pygments_lexer": "ipython3",
   "version": "3.12.7"
  }
 },
 "nbformat": 4,
 "nbformat_minor": 5
}
