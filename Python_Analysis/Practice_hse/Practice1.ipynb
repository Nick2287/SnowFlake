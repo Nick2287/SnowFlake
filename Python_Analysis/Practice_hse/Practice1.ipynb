{
 "cells": [
  {
   "cell_type": "code",
   "execution_count": 178,
   "id": "70a834f7",
   "metadata": {},
   "outputs": [],
   "source": [
    "import pandas as pd\n",
    "\n",
    "df = pd.read_csv(\"/Users/nickolaykrasnenko/Documents/GitHub/SnowFlake/Python_Analysis/Practice_hse/dataset.csv\", sep=\",\")"
   ]
  },
  {
   "cell_type": "code",
   "execution_count": 179,
   "id": "f447c211",
   "metadata": {},
   "outputs": [
    {
     "data": {
      "text/html": [
       "<div>\n",
       "<style scoped>\n",
       "    .dataframe tbody tr th:only-of-type {\n",
       "        vertical-align: middle;\n",
       "    }\n",
       "\n",
       "    .dataframe tbody tr th {\n",
       "        vertical-align: top;\n",
       "    }\n",
       "\n",
       "    .dataframe thead th {\n",
       "        text-align: right;\n",
       "    }\n",
       "</style>\n",
       "<table border=\"1\" class=\"dataframe\">\n",
       "  <thead>\n",
       "    <tr style=\"text-align: right;\">\n",
       "      <th></th>\n",
       "      <th>SessionID</th>\n",
       "      <th>StudentLevel</th>\n",
       "      <th>Discipline</th>\n",
       "      <th>SessionLengthMin</th>\n",
       "      <th>TaskType</th>\n",
       "      <th>AI_AssistanceLevel</th>\n",
       "      <th>FinalOutcome</th>\n",
       "      <th>UsedAgain</th>\n",
       "      <th>SatisfactionRating</th>\n",
       "      <th>Prompts</th>\n",
       "      <th>SessionDateTime</th>\n",
       "    </tr>\n",
       "  </thead>\n",
       "  <tbody>\n",
       "    <tr>\n",
       "      <th>0</th>\n",
       "      <td>SESSION00001</td>\n",
       "      <td>Undergraduate</td>\n",
       "      <td>Computer Science</td>\n",
       "      <td>31.20</td>\n",
       "      <td>Studying</td>\n",
       "      <td>2</td>\n",
       "      <td>Assignment Completed</td>\n",
       "      <td>True</td>\n",
       "      <td>1.0</td>\n",
       "      <td>What topics are covered by Computer Science st...</td>\n",
       "      <td>2024-11-03 07:10:45</td>\n",
       "    </tr>\n",
       "    <tr>\n",
       "      <th>1</th>\n",
       "      <td>SESSION00002</td>\n",
       "      <td>Undergraduate</td>\n",
       "      <td>Psychology</td>\n",
       "      <td>13.09</td>\n",
       "      <td>Studying</td>\n",
       "      <td>3</td>\n",
       "      <td>Assignment Completed</td>\n",
       "      <td>True</td>\n",
       "      <td>2.0</td>\n",
       "      <td>What are cognitive biases?; What psychological...</td>\n",
       "      <td>2024-08-25 08:59:12</td>\n",
       "    </tr>\n",
       "    <tr>\n",
       "      <th>2</th>\n",
       "      <td>SESSION00003</td>\n",
       "      <td>Undergraduate</td>\n",
       "      <td>Business</td>\n",
       "      <td>19.22</td>\n",
       "      <td>Coding</td>\n",
       "      <td>3</td>\n",
       "      <td>Assignment Completed</td>\n",
       "      <td>True</td>\n",
       "      <td>3.3</td>\n",
       "      <td>What expert predictions see cryptocurrency dev...</td>\n",
       "      <td>2025-01-12 00:02:38</td>\n",
       "    </tr>\n",
       "    <tr>\n",
       "      <th>3</th>\n",
       "      <td>SESSION00004</td>\n",
       "      <td>Undergraduate</td>\n",
       "      <td>Computer Science</td>\n",
       "      <td>3.70</td>\n",
       "      <td>Coding</td>\n",
       "      <td>3</td>\n",
       "      <td>Assignment Completed</td>\n",
       "      <td>True</td>\n",
       "      <td>3.5</td>\n",
       "      <td>Explain the basics of programming in Python.</td>\n",
       "      <td>2025-05-06 00:06:13</td>\n",
       "    </tr>\n",
       "    <tr>\n",
       "      <th>4</th>\n",
       "      <td>SESSION00005</td>\n",
       "      <td>Undergraduate</td>\n",
       "      <td>Psychology</td>\n",
       "      <td>28.12</td>\n",
       "      <td>Writing</td>\n",
       "      <td>3</td>\n",
       "      <td>Assignment Completed</td>\n",
       "      <td>True</td>\n",
       "      <td>2.9</td>\n",
       "      <td>What beliefs influence our perception of the w...</td>\n",
       "      <td>2025-03-18 14:28:07</td>\n",
       "    </tr>\n",
       "  </tbody>\n",
       "</table>\n",
       "</div>"
      ],
      "text/plain": [
       "      SessionID   StudentLevel        Discipline  SessionLengthMin  TaskType  \\\n",
       "0  SESSION00001  Undergraduate  Computer Science             31.20  Studying   \n",
       "1  SESSION00002  Undergraduate        Psychology             13.09  Studying   \n",
       "2  SESSION00003  Undergraduate          Business             19.22    Coding   \n",
       "3  SESSION00004  Undergraduate  Computer Science              3.70    Coding   \n",
       "4  SESSION00005  Undergraduate        Psychology             28.12   Writing   \n",
       "\n",
       "   AI_AssistanceLevel          FinalOutcome  UsedAgain  SatisfactionRating  \\\n",
       "0                   2  Assignment Completed       True                 1.0   \n",
       "1                   3  Assignment Completed       True                 2.0   \n",
       "2                   3  Assignment Completed       True                 3.3   \n",
       "3                   3  Assignment Completed       True                 3.5   \n",
       "4                   3  Assignment Completed       True                 2.9   \n",
       "\n",
       "                                             Prompts      SessionDateTime  \n",
       "0  What topics are covered by Computer Science st...  2024-11-03 07:10:45  \n",
       "1  What are cognitive biases?; What psychological...  2024-08-25 08:59:12  \n",
       "2  What expert predictions see cryptocurrency dev...  2025-01-12 00:02:38  \n",
       "3       Explain the basics of programming in Python.  2025-05-06 00:06:13  \n",
       "4  What beliefs influence our perception of the w...  2025-03-18 14:28:07  "
      ]
     },
     "execution_count": 179,
     "metadata": {},
     "output_type": "execute_result"
    }
   ],
   "source": [
    "df.head(5)"
   ]
  },
  {
   "cell_type": "code",
   "execution_count": 180,
   "id": "163b3946",
   "metadata": {},
   "outputs": [
    {
     "name": "stdout",
     "output_type": "stream",
     "text": [
      "<class 'pandas.core.frame.DataFrame'>\n",
      "RangeIndex: 10000 entries, 0 to 9999\n",
      "Data columns (total 11 columns):\n",
      " #   Column              Non-Null Count  Dtype  \n",
      "---  ------              --------------  -----  \n",
      " 0   SessionID           10000 non-null  object \n",
      " 1   StudentLevel        10000 non-null  object \n",
      " 2   Discipline          10000 non-null  object \n",
      " 3   SessionLengthMin    10000 non-null  float64\n",
      " 4   TaskType            10000 non-null  object \n",
      " 5   AI_AssistanceLevel  10000 non-null  int64  \n",
      " 6   FinalOutcome        10000 non-null  object \n",
      " 7   UsedAgain           10000 non-null  bool   \n",
      " 8   SatisfactionRating  10000 non-null  float64\n",
      " 9   Prompts             10000 non-null  object \n",
      " 10  SessionDateTime     10000 non-null  object \n",
      "dtypes: bool(1), float64(2), int64(1), object(7)\n",
      "memory usage: 791.1+ KB\n"
     ]
    }
   ],
   "source": [
    "df.info()"
   ]
  },
  {
   "cell_type": "code",
   "execution_count": 181,
   "id": "a719fb7a",
   "metadata": {},
   "outputs": [
    {
     "data": {
      "text/plain": [
       "SessionID                                                  SESSION05897\n",
       "StudentLevel                                              Undergraduate\n",
       "Discipline                                                      Biology\n",
       "SessionLengthMin                                                 110.81\n",
       "TaskType                                                        Writing\n",
       "AI_AssistanceLevel                                                    3\n",
       "FinalOutcome                                                   Confused\n",
       "UsedAgain                                                          True\n",
       "SatisfactionRating                                                  3.9\n",
       "Prompts               What cells are called eukaryotic?; What experi...\n",
       "SessionDateTime                                     2025-03-28 16:36:17\n",
       "Name: 5896, dtype: object"
      ]
     },
     "execution_count": 181,
     "metadata": {},
     "output_type": "execute_result"
    }
   ],
   "source": [
    "df.sort_values(\"SessionLengthMin\", ascending=False).iloc[0]"
   ]
  },
  {
   "cell_type": "code",
   "execution_count": 182,
   "id": "ac8bd2ed",
   "metadata": {},
   "outputs": [
    {
     "data": {
      "text/plain": [
       "SessionID                                            SESSION09463\n",
       "StudentLevel                                        Undergraduate\n",
       "Discipline                                               Business\n",
       "SessionLengthMin                                             0.89\n",
       "TaskType                                                  Writing\n",
       "AI_AssistanceLevel                                              1\n",
       "FinalOutcome                                 Assignment Completed\n",
       "UsedAgain                                                    True\n",
       "SatisfactionRating                                            1.2\n",
       "Prompts               What risks accompany business digitization?\n",
       "SessionDateTime                               2025-04-11 22:30:54\n",
       "Name: 9462, dtype: object"
      ]
     },
     "execution_count": 182,
     "metadata": {},
     "output_type": "execute_result"
    }
   ],
   "source": [
    "df.sort_values([\"AI_AssistanceLevel\", \"SessionLengthMin\"]).iloc[0]"
   ]
  },
  {
   "cell_type": "code",
   "execution_count": 183,
   "id": "fcf4b70a",
   "metadata": {},
   "outputs": [
    {
     "data": {
      "text/plain": [
       "SessionID                                                  SESSION05025\n",
       "StudentLevel                                              Undergraduate\n",
       "Discipline                                                         Math\n",
       "SessionLengthMin                                                  15.28\n",
       "TaskType                                                        Writing\n",
       "AI_AssistanceLevel                                                    5\n",
       "FinalOutcome                                       Assignment Completed\n",
       "UsedAgain                                                          True\n",
       "SatisfactionRating                                                  2.1\n",
       "Prompts               What quadratic equation formulas exist?; What ...\n",
       "SessionDateTime                                     2024-10-10 14:09:52\n",
       "Name: 5024, dtype: object"
      ]
     },
     "execution_count": 183,
     "metadata": {},
     "output_type": "execute_result"
    }
   ],
   "source": [
    "df.sort_values([\"AI_AssistanceLevel\", \"SatisfactionRating\"], ascending=[False, True]).iloc[0]"
   ]
  },
  {
   "cell_type": "code",
   "execution_count": 184,
   "id": "a7cdefc2",
   "metadata": {},
   "outputs": [
    {
     "data": {
      "text/plain": [
       "(1959, 11)"
      ]
     },
     "execution_count": 184,
     "metadata": {},
     "output_type": "execute_result"
    }
   ],
   "source": [
    "df[df[\"TaskType\"] == \"Homework Help\"].shape"
   ]
  },
  {
   "cell_type": "code",
   "execution_count": 185,
   "id": "c657ebda",
   "metadata": {},
   "outputs": [
    {
     "data": {
      "text/plain": [
       "1957"
      ]
     },
     "execution_count": 185,
     "metadata": {},
     "output_type": "execute_result"
    }
   ],
   "source": [
    "df[df[\"SessionLengthMin\"] >= 30].shape[0]"
   ]
  },
  {
   "cell_type": "code",
   "execution_count": 186,
   "id": "336bad53",
   "metadata": {},
   "outputs": [
    {
     "data": {
      "text/plain": [
       "7064"
      ]
     },
     "execution_count": 186,
     "metadata": {},
     "output_type": "execute_result"
    }
   ],
   "source": [
    "df[df[\"UsedAgain\"] == True].shape[0]"
   ]
  },
  {
   "cell_type": "code",
   "execution_count": 187,
   "id": "019754fe",
   "metadata": {},
   "outputs": [
    {
     "data": {
      "text/plain": [
       "SessionID                                                  SESSION00350\n",
       "StudentLevel                                              Undergraduate\n",
       "Discipline                                                     Business\n",
       "SessionLengthMin                                                   0.03\n",
       "TaskType                                                  Homework Help\n",
       "AI_AssistanceLevel                                                    5\n",
       "FinalOutcome                                               Idea Drafted\n",
       "UsedAgain                                                          True\n",
       "SatisfactionRating                                                  5.0\n",
       "Prompts               What strategies apply for entering foreign mar...\n",
       "SessionDateTime                                     2024-10-28 09:03:34\n",
       "TotalPrompts                                                          1\n",
       "Name: 349, dtype: object"
      ]
     },
     "execution_count": 187,
     "metadata": {},
     "output_type": "execute_result"
    }
   ],
   "source": [
    "df[\"TotalPrompts\"] = df[\"Prompts\"].apply(lambda x: str(x).count(\"; \") + 1)\n",
    "\n",
    "df.sort_values([\"TotalPrompts\", \"SessionLengthMin\"]).iloc[0]"
   ]
  },
  {
   "cell_type": "code",
   "execution_count": 188,
   "id": "e213c9ee",
   "metadata": {},
   "outputs": [
    {
     "data": {
      "text/plain": [
       "3"
      ]
     },
     "execution_count": 188,
     "metadata": {},
     "output_type": "execute_result"
    }
   ],
   "source": [
    "df[\"FreqPrompts\"] = df[\"TotalPrompts\"] / df[\"SessionLengthMin\"]\n",
    "\n",
    "df.sort_values(\"FreqPrompts\")[\"AI_AssistanceLevel\"].iloc[0]"
   ]
  },
  {
   "cell_type": "code",
   "execution_count": 189,
   "id": "3df837f9",
   "metadata": {},
   "outputs": [
    {
     "data": {
      "text/plain": [
       "3.0"
      ]
     },
     "execution_count": 189,
     "metadata": {},
     "output_type": "execute_result"
    }
   ],
   "source": [
    "df[\"LenPrompts\"] = df[\"Prompts\"].apply(lambda x: len(x) - x.count(\"; \"))\n",
    "\n",
    "\n",
    "df.sort_values(\"LenPrompts\")[\"SessionLengthMin\"].iloc[0].round()"
   ]
  },
  {
   "cell_type": "code",
   "execution_count": null,
   "id": "1deaa008",
   "metadata": {},
   "outputs": [
    {
     "ename": "NameError",
     "evalue": "name 'x' is not defined",
     "output_type": "error",
     "traceback": [
      "\u001b[0;31m---------------------------------------------------------------------------\u001b[0m",
      "\u001b[0;31mNameError\u001b[0m                                 Traceback (most recent call last)",
      "Cell \u001b[0;32mIn[206], line 3\u001b[0m\n\u001b[1;32m      1\u001b[0m df[\u001b[38;5;124m\"\u001b[39m\u001b[38;5;124mWordCheck\u001b[39m\u001b[38;5;124m\"\u001b[39m] \u001b[38;5;241m=\u001b[39m df[\u001b[38;5;124m\"\u001b[39m\u001b[38;5;124mPrompts\u001b[39m\u001b[38;5;124m\"\u001b[39m]\u001b[38;5;241m.\u001b[39mstr\u001b[38;5;241m.\u001b[39mlower()\u001b[38;5;241m.\u001b[39mstr\u001b[38;5;241m.\u001b[39msplit(\u001b[38;5;124m\"\u001b[39m\u001b[38;5;124m; \u001b[39m\u001b[38;5;124m\"\u001b[39m)\n\u001b[0;32m----> 3\u001b[0m df[\u001b[38;5;124m\"\u001b[39m\u001b[38;5;124mWordCheck\u001b[39m\u001b[38;5;124m\"\u001b[39m] \u001b[38;5;241m=\u001b[39m df[\u001b[38;5;124m\"\u001b[39m\u001b[38;5;124mWordCheck\u001b[39m\u001b[38;5;124m\"\u001b[39m]\u001b[38;5;241m.\u001b[39mapply(\u001b[38;5;28;01mlambda\u001b[39;00m x: \u001b[38;5;241m1\u001b[39m \u001b[38;5;28;01mif\u001b[39;00m i\u001b[38;5;241m.\u001b[39mstrip() \u001b[38;5;241m==\u001b[39m (\u001b[38;5;124m\"\u001b[39m\u001b[38;5;124mmath\u001b[39m\u001b[38;5;124m\"\u001b[39m \u001b[38;5;129;01mor\u001b[39;00m \u001b[38;5;124m\"\u001b[39m\u001b[38;5;124mmethod\u001b[39m\u001b[38;5;124m\"\u001b[39m) \u001b[38;5;28;01melse\u001b[39;00m \u001b[38;5;241m0\u001b[39m \u001b[38;5;28;01mfor\u001b[39;00m i \u001b[38;5;129;01min\u001b[39;00m x \u001b[38;5;28;01mfor\u001b[39;00m parts \u001b[38;5;129;01min\u001b[39;00m i\u001b[38;5;241m.\u001b[39msplit(\u001b[38;5;124m\"\u001b[39m\u001b[38;5;124m \u001b[39m\u001b[38;5;124m\"\u001b[39m))\n\u001b[1;32m      5\u001b[0m df[\u001b[38;5;124m\"\u001b[39m\u001b[38;5;124mWordCheck\u001b[39m\u001b[38;5;124m\"\u001b[39m]\u001b[38;5;241m.\u001b[39miloc[\u001b[38;5;241m0\u001b[39m]\n",
      "\u001b[0;31mNameError\u001b[0m: name 'x' is not defined"
     ]
    }
   ],
   "source": [
    "df[\"WordCheck\"] = df[\"Prompts\"].str.lower().str.split(\"; \").apply(\n",
    "    lambda x: 1 if i.strip() == (\"math\" or \"method\") else 0 for i in x for parts in i.split(\" \")\n",
    ")\n",
    "\n",
    "df[\"WordCheck\"].iloc[0]"
   ]
  }
 ],
 "metadata": {
  "kernelspec": {
   "display_name": "Python (base)",
   "language": "python",
   "name": "base"
  },
  "language_info": {
   "codemirror_mode": {
    "name": "ipython",
    "version": 3
   },
   "file_extension": ".py",
   "mimetype": "text/x-python",
   "name": "python",
   "nbconvert_exporter": "python",
   "pygments_lexer": "ipython3",
   "version": "3.12.7"
  }
 },
 "nbformat": 4,
 "nbformat_minor": 5
}
